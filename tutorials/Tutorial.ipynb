{
 "cells": [
  {
   "cell_type": "code",
   "execution_count": null,
   "id": "579006e2-64b1-424d-9fff-38b3e6f22aa0",
   "metadata": {},
   "outputs": [],
   "source": [
    "from ptmpsi.alphafold import prediction\n",
    "from ptmpsi.protein import Protein\n",
    "from ptmpsi.nwchem import get_qm_data\n",
    "from ptmpsi.polymers import gen_pdb"
   ]
  },
  {
   "cell_type": "markdown",
   "id": "342a93b7-4082-40d7-bd9f-8398801e7b72",
   "metadata": {},
   "source": [
    "# Structure Prediction with AlphaFold"
   ]
  },
  {
   "cell_type": "markdown",
   "id": "e086796e-55da-4899-a78a-f86f53eb2414",
   "metadata": {},
   "source": [
    "## Pass a FASTA sequence to the `prediction` function"
   ]
  },
  {
   "cell_type": "code",
   "execution_count": null,
   "id": "e3623000-2bd7-4661-8d26-21c81c37ae67",
   "metadata": {},
   "outputs": [],
   "source": [
    "prediction(\"GGGGGGGGGGG\", multimer=False)"
   ]
  },
  {
   "cell_type": "markdown",
   "id": "8f281047-cde6-4fa9-8967-ef5b22bccb5d",
   "metadata": {},
   "source": [
    "Three files will be generated in the current working directory: `alphafold.sbatch`, `run_singularity.py` and `temp1.fasta`.\n",
    "Paths to the required databases will default to their location in the Tahoma cluster.\n",
    "\n",
    "The `prediction` function also accepts a list of sequences for the sequential prediction for each one of the sequences.\n",
    "\n",
    "If **multimer** is instead desired, one must pass `multimer=True` to the `prediction` and a path to \n",
    "a file containing two or more sequences with the following format:\n",
    "\n",
    "```\n",
    ">sequence_1\n",
    "GGGGGGGG\n",
    "\n",
    ">sequence_2\n",
    "AAAAAAAA\n",
    "```"
   ]
  },
  {
   "cell_type": "markdown",
   "id": "060ee19a-f3b5-4f78-b46f-d1b8409c8241",
   "metadata": {},
   "source": [
    "# Loading a predicted 3D structure\n",
    "\n",
    "The `Protein` class handles all protein/polymer operations. We will use this class to load or build the 3D structure \n",
    "of a polymer. "
   ]
  },
  {
   "cell_type": "markdown",
   "id": "d2076ecc-a895-4790-ae73-e15611e2de6f",
   "metadata": {
    "jp-MarkdownHeadingCollapsed": true
   },
   "source": [
    "## Read a structure from a local PDB file\n",
    "Create a `Protein` object using the `filename` option to pass the path to a local PDB file"
   ]
  },
  {
   "cell_type": "code",
   "execution_count": null,
   "id": "393a16f2-9926-4bde-9be9-4e6063bfc81e",
   "metadata": {},
   "outputs": [],
   "source": [
    "local_pdb = Protein(filename=\"/path/to/local.pdb\")"
   ]
  },
  {
   "cell_type": "markdown",
   "id": "8482236d-353e-499b-ad95-44bda7ffd1cf",
   "metadata": {},
   "source": [
    "## Fetch a structure from the Protein Data Bank\n",
    "Only works when internet access is available. Create a `Protein` object using the `pdbid` option to pass a Protein Data Bank ID code."
   ]
  },
  {
   "cell_type": "code",
   "execution_count": null,
   "id": "9113e2bc-6c68-4335-9980-cd4f50920b6a",
   "metadata": {},
   "outputs": [],
   "source": [
    "fetched_pdb = Protein(pdbid=\"6tht\")"
   ]
  },
  {
   "cell_type": "markdown",
   "id": "1a169015-59ae-46ea-8c31-9dfb2381655f",
   "metadata": {},
   "source": [
    "## Fetch a structure from the AlphaFold Database\n",
    "Only works when internet access is available. Create a `Protein` object using the `uniprotid` option to pass a Uniprot ID code."
   ]
  },
  {
   "cell_type": "code",
   "execution_count": null,
   "id": "e9a48fdc-e7f2-4be9-9e61-682b715e835e",
   "metadata": {},
   "outputs": [],
   "source": [
    "uniprot_pdb = Protein(uniprotid=\"G9BY57\")"
   ]
  },
  {
   "cell_type": "markdown",
   "id": "f96e9baf-da47-454d-b790-2cf2dfa4f5b0",
   "metadata": {},
   "source": [
    "## Build a chain from scratch\n",
    "Create an empty `Protein` object and use the `append` and `prepend` functions to add residues to a given polymer *chain*. The `phi`/`psi` amide torsions can be customized while using the `prepend`/`append` commands, respectively. The default values will produce torsion angles compatible with the alpha-helix conformation. "
   ]
  },
  {
   "cell_type": "code",
   "execution_count": null,
   "id": "695b77e8-8e4c-4b93-bdbd-307119885172",
   "metadata": {},
   "outputs": [],
   "source": [
    "chain = Protein()\n",
    "\n",
    "# Build a trimer of epsilon-amino caproic acid\n",
    "chain.prepend(chain=\"A\", residue=\"EAC\")\n",
    "chain.append(chain=\"A\", residue=\"EAC\", psi=120.0)\n",
    "chain.append(chain=\"A\", residue=\"EAC\", psi=120.0)\n",
    "\n",
    "# Cap the trimer to have neutral ends\n",
    "chain.prepend(chain=\"A\", residue=\"ACE\", phi=-120.0)\n",
    "chain.append(chain=\"A\", residue=\"NME\", psi=120.0)"
   ]
  },
  {
   "cell_type": "markdown",
   "id": "35161686-5a99-44c0-85f4-110d0d47fbd9",
   "metadata": {},
   "source": [
    "## Generate a Nylon-6 surface\n",
    "Use the `gen_pdb` function to create a PDB file of a finite cluster approximation of a Nylon-6 surface by specifying the number of unit cells to include along the `a`, `b`, and `c` directions. Two PDB files will be generated, one where all of the strands share the same *MODEL* parameter and another where each strand is its own *MODEL*. There is no difference among the models, but some visualization software packages might get confused with many strands in one *MODEL*."
   ]
  },
  {
   "cell_type": "code",
   "execution_count": null,
   "id": "ed5c7ab2-3c5d-4e1a-862a-67e571ec13e0",
   "metadata": {},
   "outputs": [],
   "source": [
    "gen_pdb(rangea=3, rangeb=3, rangec=3)"
   ]
  },
  {
   "cell_type": "markdown",
   "id": "9b4bf925-7e1e-4e22-8856-ffc8782ccc9d",
   "metadata": {},
   "source": [
    "# Introducing point mutations"
   ]
  },
  {
   "cell_type": "markdown",
   "id": "f46ea8d7-ac05-4021-a120-43b675cc45fb",
   "metadata": {},
   "source": [
    "The `mutate` function of the `Protein` class can be used to introduce point mutations in a protein. For example, the active form of the ICCG variant of cutinase can be obtained by the following commands."
   ]
  },
  {
   "cell_type": "code",
   "execution_count": null,
   "id": "de557511-1c46-470c-83ba-4a0a68787ade",
   "metadata": {},
   "outputs": [],
   "source": [
    "cutinase = Protein(pdbid=\"6tht\")\n",
    "cutinase.mutate(\"A:ALA130\",\"SER\")"
   ]
  },
  {
   "cell_type": "markdown",
   "id": "d35c3652-c096-4b13-a05d-05a7f749eb7c",
   "metadata": {},
   "source": [
    "The residue to be mutated can be specified with the nomenclature \"\\[chain\\]:\\[name\\]\\[number\\]\", where \\[chain\\] is the one-letter chain identifier, \\[name\\] is the three-letter aminoacid name, and \\[number\\] is the residue number. The \\[name\\] can be omitted."
   ]
  },
  {
   "cell_type": "markdown",
   "id": "a1c7ef00-d957-4985-961a-2b13ce396047",
   "metadata": {},
   "source": [
    "# Obtaining AMBER99 parameters for a residue"
   ]
  },
  {
   "cell_type": "markdown",
   "id": "f822af3f-4f19-4501-89e5-a795d86bcca7",
   "metadata": {},
   "source": [
    "The `get_qm_data` function will produce a series of `NWChem` input files that will generate `RESP` charges and bonded force constants according to the `AMBER99` forcefield recipe. The current output is obtained in `STDOUT` and the force constants are given in a format that can be copied directly into a `GROMACS` forcefield definition.\n",
    "\n",
    "By default, `get_qm_data` will generate two conformations for the new residue capped by an `ACE` and `NME` groups. The `RESP` fitting for both conformers will be performed simultaneously and only one set of charges will be computed. Bond and angle force constants parameters will be generated **separately** and the user must average these values in order to obtain a single constant for each bond or angle.\n",
    "\n",
    "When needed, torsion potentials are fitted for both conformations at the same time."
   ]
  },
  {
   "cell_type": "code",
   "execution_count": null,
   "id": "7e33569b-10ae-4bf2-b7f9-770fc1e779f5",
   "metadata": {},
   "outputs": [],
   "source": [
    "eac = Protein()\n",
    "eac.prepend(chain=\"A\", residue=\"EAC\")\n",
    "get_qm_data(eac)"
   ]
  },
  {
   "cell_type": "markdown",
   "id": "32e0920d-66fc-408f-9d40-1fa38aa71d7d",
   "metadata": {},
   "source": [
    "Some NWChem input options can be changed via keyword arguments. These options, along with their default values, are:"
   ]
  },
  {
   "cell_type": "markdown",
   "id": "2316f998-92fe-45da-a8c4-c13056f760ac",
   "metadata": {},
   "source": [
    "```\n",
    "mult    = kwargs.get(\"mult\",1)\n",
    "charge  = kwargs.get(\"charge\",0)\n",
    "memory  = kwargs.get(\"memory\",2000)\n",
    "aobasis = kwargs.get(\"aobasis\",\"def2-tzvp\")\n",
    "tdbasis = kwargs.get(\"tdbasis\",\"def2-svp\")\n",
    "cdbasis = kwargs.get(\"cdbasis\",\"def2-universal-jfit\")\n",
    "xcfun   = kwargs.get(\"xcfun\",\"r2scan\")\n",
    "grid    = kwargs.get(\"grid\",\"lebedev 120 14\")\n",
    "tdgrid  = kwargs.get(\"tdgrid\",\"lebedev 100 14\")\n",
    "nscf    = kwargs.get(\"nscf\",100)\n",
    "nopt    = kwargs.get(\"nopt\",60)\n",
    "disp    = kwargs.get(\"disp\",\"disp vdw 4\")\n",
    "delta   = kwargs.get(\"delta\",0.0189)\n",
    "lshift  = kwargs.get(\"lshift\",0.1)\n",
    "```"
   ]
  },
  {
   "cell_type": "markdown",
   "id": "087dffb4-270f-4afe-9043-b53b0920a92f",
   "metadata": {},
   "source": [
    "# Post-translational modifications"
   ]
  },
  {
   "cell_type": "markdown",
   "id": "58c66bba-fd12-48a8-8719-4d4e58165b98",
   "metadata": {},
   "source": [
    "Post-translational modifications can be introduced by using the `modify` function of the `Protein` class. The following is a list of available CYS post-translational modifications\n",
    " - nitrosylation\n",
    " - sulfenylation\n",
    " - sulfynilation\n",
    " - sulfonylation\n",
    " - sulfhydration\n",
    " - glutathionylation\n",
    " - cysteinylation\n",
    " - methylation\n",
    " - carbamoylation\n",
    " - cyanylation\n",
    "\n",
    "The following post-translational modifications are also available for a subset of aminoacids\n",
    " - acetylation\n",
    "     - LYS, LYN\n",
    " - methylation:\n",
    "     - GLU, GLH\n",
    "     - LYS, LYN\n",
    "     - ARG\n",
    "     - HIS, HIP, HID, HIE\n",
    " - dimethylation:\n",
    "     - LYS, LYN, ARG\n",
    " - trimethylation:\n",
    "     - LYS, LYN\n",
    " - symmetric dimethylation:\n",
    "     - ARG\n",
    " - asymmetric dimethylation:\n",
    "     - ARG        \n",
    " - phosphorylation:\n",
    "     - SER\n",
    "     - THR\n",
    "     - TYR\n",
    "     - ARG\n",
    "     - HIS, HIP, HID, HIE\n",
    "     - LYS, LYN\n",
    "     - ASP, ASH\n",
    "     - CYS, CYM"
   ]
  },
  {
   "cell_type": "code",
   "execution_count": null,
   "id": "42aa2024-c858-4506-a4ee-ba47a60dd569",
   "metadata": {},
   "outputs": [],
   "source": [
    "snc = Protein()\n",
    "snc.prepend(chain=\"A\", residue=\"CYS\")\n",
    "snc.modify(\"A:CYS1\", \"nitrosylation\")"
   ]
  },
  {
   "cell_type": "markdown",
   "id": "04eee9fe-de67-422e-83ed-a4d41342fc6b",
   "metadata": {},
   "source": [
    "# Docking"
   ]
  },
  {
   "cell_type": "markdown",
   "id": "e7750b05-f02d-4b0f-9dfd-46f64224f1b0",
   "metadata": {},
   "source": [
    "PTM-Psi relies on existing installations of AutoDock Vina and the AutoDock Tools packages. PTM-Psi will not attempt to fetch these packages. "
   ]
  },
  {
   "cell_type": "code",
   "execution_count": null,
   "id": "331a081b-b31d-4a45-ad75-2d3a404205bb",
   "metadata": {},
   "outputs": [],
   "source": [
    "cutinase = Protein(pdbid=\"6tht\")\n",
    "cutinase.mutate(\"A:ALA130\",\"SER\")\n",
    "cutinase.write_pdb(\"cutinase.pdb\")\n",
    "\n",
    "nylon6 = Protein()\n",
    "nylon6.prepend(\"A\", \"EAC\")\n",
    "nylon6.prepend(\"A\", \"ACE\")\n",
    "nylon6.append(\"A\", \"EAC\")\n",
    "nylon6.append(\"A\", \"NME\")\n",
    "nylon6.write_xyz(\"nylon6.xyz\")\n",
    "cutinase.dock(ligand=\"nylon6.xyz\", receptor=\"cutinase.pdb\", boxcenter=\"A:SER130\", boxsize=20.0)"
   ]
  },
  {
   "cell_type": "markdown",
   "id": "41a87abc-1274-4ed1-9f6b-edeeec6aeccb",
   "metadata": {},
   "source": [
    "# NWChem QM/MM input generation"
   ]
  },
  {
   "cell_type": "code",
   "execution_count": null,
   "id": "2a6f895a-9a29-4108-b443-8f07587f87e5",
   "metadata": {},
   "outputs": [],
   "source": []
  }
 ],
 "metadata": {
  "kernelspec": {
   "display_name": "Python 3 (ipykernel)",
   "language": "python",
   "name": "python3"
  },
  "language_info": {
   "codemirror_mode": {
    "name": "ipython",
    "version": 3
   },
   "file_extension": ".py",
   "mimetype": "text/x-python",
   "name": "python",
   "nbconvert_exporter": "python",
   "pygments_lexer": "ipython3",
   "version": "3.10.12"
  }
 },
 "nbformat": 4,
 "nbformat_minor": 5
}
