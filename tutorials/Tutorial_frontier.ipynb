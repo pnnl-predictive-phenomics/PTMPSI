{
 "cells": [
  {
   "cell_type": "code",
   "execution_count": 1,
   "id": "579006e2-64b1-424d-9fff-38b3e6f22aa0",
   "metadata": {},
   "outputs": [],
   "source": [
    "import ptmpsi\n",
    "from ptmpsi.alphafold import prediction\n",
    "from ptmpsi.protein import Protein\n",
    "from ptmpsi.nwchem import get_qm_data\n",
    "import os\n",
    "\n",
    "tutorial_directory = os.path.join(os.getcwd())\n",
    "machine='frontier'\n",
    "account='bip258'\n",
    "long_partition='extended'\n",
    "gromacs_options=ptmpsi.slurm.frontier.partitions[long_partition].options[\"gromacs\"]"
   ]
  },
  {
   "cell_type": "markdown",
   "id": "342a93b7-4082-40d7-bd9f-8398801e7b72",
   "metadata": {},
   "source": [
    "# Structure Prediction with AlphaFold"
   ]
  },
  {
   "cell_type": "markdown",
   "id": "e086796e-55da-4899-a78a-f86f53eb2414",
   "metadata": {},
   "source": [
    "## Pass a FASTA sequence to the `prediction` function"
   ]
  },
  {
   "cell_type": "code",
   "execution_count": null,
   "id": "e3623000-2bd7-4661-8d26-21c81c37ae67",
   "metadata": {},
   "outputs": [],
   "source": [
    "submission_directory = os.path.join(tutorial_directory, 'alphafold_submission')\n",
    "os.makedirs(submission_directory, exist_ok=True)\n",
    "os.chdir(submission_directory)\n",
    "prediction(\"GGGGGGGGGGG\", multimer=False, machine=machine, account=account, partition=long_partition, ngpus=8, time=8)\n",
    "os.chdir(tutorial_directory)"
   ]
  },
  {
   "cell_type": "markdown",
   "id": "8f281047-cde6-4fa9-8967-ef5b22bccb5d",
   "metadata": {},
   "source": [
    "Three files will be generated in the ./alphafold_submission directory: `alphafold.sbatch`, `run_singularity.py` and `temp1.fasta`.\n",
    "Paths to the required databases will default to their location in the specified machine.\n",
    "\n",
    "The `prediction` function also accepts a list of sequences for the sequential prediction for each one of the sequences.\n",
    "\n",
    "If **multimer** is instead desired, one must pass `multimer=True` to the `prediction` and a path to \n",
    "a file containing two or more sequences with the following format:\n",
    "\n",
    "```\n",
    ">sequence_1\n",
    "GGGGGGGG\n",
    "\n",
    ">sequence_2\n",
    "AAAAAAAA\n",
    "```"
   ]
  },
  {
   "cell_type": "markdown",
   "id": "7631ef4a",
   "metadata": {},
   "source": [
    "An example of submitting the alphafold job is shown below."
   ]
  },
  {
   "cell_type": "code",
   "execution_count": null,
   "id": "ea74e515",
   "metadata": {},
   "outputs": [],
   "source": [
    "os.chdir(submission_directory)\n",
    "os.system('sbatch alphafold.sbatch')\n",
    "os.chdir(tutorial_directory)"
   ]
  },
  {
   "cell_type": "markdown",
   "id": "060ee19a-f3b5-4f78-b46f-d1b8409c8241",
   "metadata": {},
   "source": [
    "# Loading a predicted 3D structure\n",
    "\n",
    "The `Protein` class handles all protein/polymer operations. We will use this class to load or build the 3D structure \n",
    "of a polymer. "
   ]
  },
  {
   "cell_type": "markdown",
   "id": "8482236d-353e-499b-ad95-44bda7ffd1cf",
   "metadata": {},
   "source": [
    "## Fetch a structure from the Protein Data Bank\n",
    "Only works when internet access is available. Create a `Protein` object using the `pdbid` option to pass a Protein Data Bank ID code."
   ]
  },
  {
   "cell_type": "code",
   "execution_count": null,
   "id": "9113e2bc-6c68-4335-9980-cd4f50920b6a",
   "metadata": {},
   "outputs": [],
   "source": [
    "fetched_pdb = Protein(pdbid=\"6tht\")"
   ]
  },
  {
   "cell_type": "markdown",
   "id": "1a169015-59ae-46ea-8c31-9dfb2381655f",
   "metadata": {},
   "source": [
    "## Fetch a structure from the AlphaFold Database\n",
    "Only works when internet access is available. Create a `Protein` object using the `uniprotid` option to pass a Uniprot ID code."
   ]
  },
  {
   "cell_type": "code",
   "execution_count": null,
   "id": "e9a48fdc-e7f2-4be9-9e61-682b715e835e",
   "metadata": {},
   "outputs": [],
   "source": [
    "uniprot_pdb = Protein(uniprotid=\"G9BY57\")"
   ]
  },
  {
   "cell_type": "markdown",
   "id": "d2076ecc-a895-4790-ae73-e15611e2de6f",
   "metadata": {},
   "source": [
    "## Read a structure from a local PDB file\n",
    "Create a `Protein` object using the `filename` option to pass the path to a local PDB file"
   ]
  },
  {
   "cell_type": "code",
   "execution_count": null,
   "id": "393a16f2-9926-4bde-9be9-4e6063bfc81e",
   "metadata": {},
   "outputs": [],
   "source": [
    "local_pdb = Protein(filename=\"G9BY57.pdb\")"
   ]
  },
  {
   "cell_type": "markdown",
   "id": "f96e9baf-da47-454d-b790-2cf2dfa4f5b0",
   "metadata": {},
   "source": [
    "## Build a chain from scratch\n",
    "Create an empty `Protein` object and use the `append` and `prepend` functions to add residues to a given polymer *chain*. The `phi`/`psi` amide torsions can be customized while using the `prepend`/`append` commands, respectively. The default values will produce torsion angles compatible with the alpha-helix conformation. "
   ]
  },
  {
   "cell_type": "code",
   "execution_count": 9,
   "id": "695b77e8-8e4c-4b93-bdbd-307119885172",
   "metadata": {},
   "outputs": [],
   "source": [
    "chain = Protein()\n",
    "\n",
    "# Build a trimer of epsilon-amino caproic acid\n",
    "chain.prepend(chain=\"A\", residue=\"EAC\")\n",
    "chain.append(chain=\"A\", residue=\"EAC\", psi=120.0)\n",
    "chain.append(chain=\"A\", residue=\"EAC\", psi=120.0)\n",
    "\n",
    "# Cap the trimer to have neutral ends\n",
    "chain.prepend(chain=\"A\", residue=\"ACE\", phi=-120.0)\n",
    "chain.append(chain=\"A\", residue=\"NME\", psi=120.0)"
   ]
  },
  {
   "cell_type": "markdown",
   "id": "35161686-5a99-44c0-85f4-110d0d47fbd9",
   "metadata": {},
   "source": [
    "## Generate a Nylon-4 or Nylon-6 surface\n",
    "Use the `polymers.nylon4.gen_surface` or the `polymers.nylon6.gen_surface` function to create a PDB file containing a finite cluster approximation of the corresponding surface by specifying the number of unit cells to include along the `a`, `b`, and `c` directions. Two PDB files will be generated, one where all strands share the same *MODEL* parameter and another where each strand is its own *MODEL*. There is no difference among the generated surfaces, but some visualization software packages might get confused with many strands in one single *MODEL*.\n",
    "\n",
    "Three different Nylon-6 crystallographic parameters can be selected with the `model` keyword: \"Malta1979\", \"Holmes\", or \"Arimoto\".\n",
    "\n",
    "There is only one Nylon-4 `model` available."
   ]
  },
  {
   "cell_type": "code",
   "execution_count": null,
   "id": "ed5c7ab2-3c5d-4e1a-862a-67e571ec13e0",
   "metadata": {},
   "outputs": [],
   "source": [
    "nylon_pdb_dirs = os.path.join(tutorial_directory, 'nylon_pdbs')\n",
    "os.makedirs(nylon_pdb_dirs, exist_ok=True)\n",
    "os.chdir(nylon_pdb_dirs)\n",
    "ptmpsi.polymers.nylon6.gen_surface(rangea=3, rangeb=3, rangec=3, model=\"Malta1979\")\n",
    "ptmpsi.polymers.nylon4.gen_surface(rangea=3, rangeb=3, rangec=3)\n",
    "os.chdir(tutorial_directory)"
   ]
  },
  {
   "cell_type": "markdown",
   "id": "9b4bf925-7e1e-4e22-8856-ffc8782ccc9d",
   "metadata": {},
   "source": [
    "# Introducing point mutations"
   ]
  },
  {
   "cell_type": "markdown",
   "id": "f46ea8d7-ac05-4021-a120-43b675cc45fb",
   "metadata": {},
   "source": [
    "The `mutate` function of the `Protein` class can be used to introduce point mutations in a protein. For example, the active form of the ICCG variant of cutinase can be obtained by the following commands."
   ]
  },
  {
   "cell_type": "code",
   "execution_count": null,
   "id": "de557511-1c46-470c-83ba-4a0a68787ade",
   "metadata": {},
   "outputs": [],
   "source": [
    "cutinase = Protein(pdbid=\"6tht\")\n",
    "cutinase.mutate(\"A:ALA130\",\"SER\")"
   ]
  },
  {
   "cell_type": "markdown",
   "id": "d35c3652-c096-4b13-a05d-05a7f749eb7c",
   "metadata": {},
   "source": [
    "The residue to be mutated can be specified with the nomenclature \"\\[chain\\]:\\[name\\]\\[number\\]\", where \\[chain\\] is the one-letter chain identifier, \\[name\\] is the three-letter aminoacid name, and \\[number\\] is the residue number. The \\[name\\] can be omitted."
   ]
  },
  {
   "cell_type": "markdown",
   "id": "a1c7ef00-d957-4985-961a-2b13ce396047",
   "metadata": {},
   "source": [
    "# Obtaining AMBER99 parameters for a residue"
   ]
  },
  {
   "cell_type": "markdown",
   "id": "f822af3f-4f19-4501-89e5-a795d86bcca7",
   "metadata": {},
   "source": [
    "The `get_qm_data` function will produce a series of `NWChem` input files that will generate `RESP` charges and bonded force constants according to the `AMBER99` forcefield recipe. The current output is obtained in `STDOUT` and the force constants are given in a format that can be copied directly into a `GROMACS` forcefield definition.\n",
    "\n",
    "By default, `get_qm_data` will generate two conformations for the new residue capped by an `ACE` and `NME` groups. The `RESP` fitting for both conformers will be performed simultaneously and only one set of charges will be computed. Bond and angle force constants parameters will be generated **separately** and the user must average these values in order to obtain a single constant for each bond or angle.\n",
    "\n",
    "When needed, torsion potentials are fitted for both conformations at the same time."
   ]
  },
  {
   "cell_type": "code",
   "execution_count": 2,
   "id": "7e33569b-10ae-4bf2-b7f9-770fc1e779f5",
   "metadata": {},
   "outputs": [],
   "source": [
    "eac = Protein()\n",
    "eac.prepend(chain=\"A\", residue=\"EAC\")\n",
    "qm_path = os.path.join(os.getcwd(), \"get_qm_data_nwchem_submission\")\n",
    "get_qm_data(eac, path=qm_path, machine=machine, account=account, partition=long_partition, time=8)\n"
   ]
  },
  {
   "cell_type": "markdown",
   "id": "32e0920d-66fc-408f-9d40-1fa38aa71d7d",
   "metadata": {},
   "source": [
    "Some NWChem input options can be changed via keyword arguments. These options, along with their default values, are:"
   ]
  },
  {
   "cell_type": "markdown",
   "id": "2316f998-92fe-45da-a8c4-c13056f760ac",
   "metadata": {},
   "source": [
    "```\n",
    "mult    = kwargs.get(\"mult\",1)\n",
    "charge  = kwargs.get(\"charge\",0)\n",
    "memory  = kwargs.get(\"memory\",2000)\n",
    "aobasis = kwargs.get(\"aobasis\",\"def2-tzvp\")\n",
    "tdbasis = kwargs.get(\"tdbasis\",\"def2-svp\")\n",
    "cdbasis = kwargs.get(\"cdbasis\",\"def2-universal-jfit\")\n",
    "xcfun   = kwargs.get(\"xcfun\",\"r2scan\")\n",
    "grid    = kwargs.get(\"grid\",\"lebedev 120 14\")\n",
    "tdgrid  = kwargs.get(\"tdgrid\",\"lebedev 100 14\")\n",
    "nscf    = kwargs.get(\"nscf\",100)\n",
    "nopt    = kwargs.get(\"nopt\",60)\n",
    "disp    = kwargs.get(\"disp\",\"disp vdw 4\")\n",
    "delta   = kwargs.get(\"delta\",0.0189)\n",
    "lshift  = kwargs.get(\"lshift\",0.1)\n",
    "```"
   ]
  },
  {
   "cell_type": "markdown",
   "id": "dd65499e",
   "metadata": {},
   "source": [
    "An example of running the command is shown below."
   ]
  },
  {
   "cell_type": "code",
   "execution_count": 6,
   "id": "c8328a6d",
   "metadata": {},
   "outputs": [],
   "source": [
    "os.chdir(qm_path)\n",
    "os.system('sbatch get_qm_data.sbatch')\n",
    "os.chdir(tutorial_directory)"
   ]
  },
  {
   "cell_type": "markdown",
   "id": "087dffb4-270f-4afe-9043-b53b0920a92f",
   "metadata": {},
   "source": [
    "# Post-translational modifications"
   ]
  },
  {
   "cell_type": "markdown",
   "id": "58c66bba-fd12-48a8-8719-4d4e58165b98",
   "metadata": {},
   "source": [
    "Post-translational modifications can be introduced by using the `modify` function of the `Protein` class. The following is a list of available CYS post-translational modifications\n",
    " - nitrosylation\n",
    " - sulfenylation\n",
    " - sulfynilation\n",
    " - sulfonylation\n",
    " - sulfhydration\n",
    " - glutathionylation\n",
    " - cysteinylation\n",
    " - methylation\n",
    " - carbamoylation\n",
    " - cyanylation\n",
    "\n",
    "The following post-translational modifications are also available for a subset of aminoacids\n",
    " - acetylation\n",
    "     - LYS, LYN\n",
    " - methylation:\n",
    "     - GLU, GLH\n",
    "     - LYS, LYN\n",
    "     - ARG\n",
    "     - HIS, HIP, HID, HIE\n",
    " - dimethylation:\n",
    "     - LYS, LYN, ARG\n",
    " - trimethylation:\n",
    "     - LYS, LYN\n",
    " - symmetric dimethylation:\n",
    "     - ARG\n",
    " - asymmetric dimethylation:\n",
    "     - ARG        \n",
    " - phosphorylation:\n",
    "     - SER\n",
    "     - THR\n",
    "     - TYR\n",
    "     - ARG\n",
    "     - HIS, HIP, HID, HIE\n",
    "     - LYS, LYN\n",
    "     - ASP, ASH\n",
    "     - CYS, CYM"
   ]
  },
  {
   "cell_type": "code",
   "execution_count": 4,
   "id": "42aa2024-c858-4506-a4ee-ba47a60dd569",
   "metadata": {},
   "outputs": [
    {
     "name": "stdout",
     "output_type": "stream",
     "text": [
      "nitrosylation SNC\n",
      "\n",
      "\t Found rotamer with no clashes!\n"
     ]
    }
   ],
   "source": [
    "snc = Protein()\n",
    "snc.prepend(chain=\"A\", residue=\"CYS\")\n",
    "snc.modify(\"A:CYS1\", \"nitrosylation\")"
   ]
  },
  {
   "cell_type": "markdown",
   "id": "04eee9fe-de67-422e-83ed-a4d41342fc6b",
   "metadata": {},
   "source": [
    "# Docking"
   ]
  },
  {
   "cell_type": "markdown",
   "id": "e7750b05-f02d-4b0f-9dfd-46f64224f1b0",
   "metadata": {},
   "source": [
    "PTM-Psi relies on an existing installation of AutoDock Vina."
   ]
  },
  {
   "cell_type": "code",
   "execution_count": 4,
   "id": "331a081b-b31d-4a45-ad75-2d3a404205bb",
   "metadata": {},
   "outputs": [
    {
     "name": "stdout",
     "output_type": "stream",
     "text": [
      "\t Downloading file from the Protein Databank\n",
      "\t Warning: Atom CA of residue MET91 has alternate locations\n",
      "\t\t Selecting location 'A' with occupancy   0.58\n",
      "\t Warning: Atom CB of residue MET91 has alternate locations\n",
      "\t\t Selecting location 'A' with occupancy   0.58\n",
      "\t Warning: Atom CG of residue MET91 has alternate locations\n",
      "\t\t Selecting location 'A' with occupancy   0.58\n",
      "\t Warning: Atom SD of residue MET91 has alternate locations\n",
      "\t\t Selecting location 'A' with occupancy   0.58\n",
      "\t Warning: Atom CE of residue MET91 has alternate locations\n",
      "\t\t Selecting location 'A' with occupancy   0.58\n",
      "\t Warning: Atom CA of residue SER133 has alternate locations\n",
      "\t\t Selecting location 'A' with occupancy   0.57\n",
      "\t Warning: Atom CB of residue SER133 has alternate locations\n",
      "\t\t Selecting location 'A' with occupancy   0.57\n",
      "\t Warning: Atom OG of residue SER133 has alternate locations\n",
      "\t\t Selecting location 'A' with occupancy   0.57\n",
      "\t Warning: Atom CA of residue SER136 has alternate locations\n",
      "\t\t Selecting location 'B' with occupancy   0.63\n",
      "\t Warning: Atom CB of residue SER136 has alternate locations\n",
      "\t\t Selecting location 'B' with occupancy   0.63\n",
      "\t Warning: Atom OG of residue SER136 has alternate locations\n",
      "\t\t Selecting location 'B' with occupancy   0.63\n",
      "\t Warning: Atom CA of residue ASN140 has alternate locations\n",
      "\t\t Selecting location 'A' with occupancy   0.60\n",
      "\t Warning: Atom CB of residue ASN140 has alternate locations\n",
      "\t\t Selecting location 'A' with occupancy   0.60\n",
      "\t Warning: Atom CG of residue ASN140 has alternate locations\n",
      "\t\t Selecting location 'A' with occupancy   0.60\n",
      "\t Warning: Atom OD1 of residue ASN140 has alternate locations\n",
      "\t\t Selecting location 'A' with occupancy   0.60\n",
      "\t Warning: Atom ND2 of residue ASN140 has alternate locations\n",
      "\t\t Selecting location 'A' with occupancy   0.60\n",
      "\t Warning: Atom CA of residue SER228 has alternate locations\n",
      "\t\t Selecting location 'B' with occupancy   0.60\n",
      "\t Warning: Atom CB of residue SER228 has alternate locations\n",
      "\t\t Selecting location 'B' with occupancy   0.60\n",
      "\t Warning: Atom OG of residue SER228 has alternate locations\n",
      "\t\t Selecting location 'B' with occupancy   0.60\n",
      "\t Warning: Atom CA of residue CYS238 has alternate locations\n",
      "\t\t Selecting location 'A' with occupancy   0.60\n",
      "\t Warning: Atom CB of residue CYS238 has alternate locations\n",
      "\t\t Selecting location 'A' with occupancy   0.60\n",
      "\t Warning: Atom SG of residue CYS238 has alternate locations\n",
      "\t\t Selecting location 'A' with occupancy   0.60\n",
      "\t Warning: Atom CA of residue SER241 has alternate locations\n",
      "\t\t Selecting location 'A' with occupancy   0.50\n",
      "\t Warning: Atom CB of residue SER241 has alternate locations\n",
      "\t\t Selecting location 'A' with occupancy   0.50\n",
      "\t Warning: Atom OG of residue SER241 has alternate locations\n",
      "\t\t Selecting location 'A' with occupancy   0.50\n",
      "\t Warning: Atom CA of residue CYS283 has alternate locations\n",
      "\t\t Selecting location 'A' with occupancy   0.60\n",
      "\t Warning: Atom CB of residue CYS283 has alternate locations\n",
      "\t\t Selecting location 'A' with occupancy   0.60\n",
      "\t Warning: Atom SG of residue CYS283 has alternate locations\n",
      "\t\t Selecting location 'A' with occupancy   0.60\n",
      "\n",
      "\t Found rotamer with no clashes!\n"
     ]
    },
    {
     "name": "stderr",
     "output_type": "stream",
     "text": [
      "!!! Warning !!! Distance between atoms 10 and 9 (0.996594 A) is suspicious.\n",
      "!!! Warning !!! Distance between atoms 13 and 12 (0.998549 A) is suspicious.\n",
      "!!! Warning !!! Distance between atoms 14 and 12 (0.993680 A) is suspicious.\n",
      "!!! Warning !!! Distance between atoms 16 and 15 (0.996845 A) is suspicious.\n",
      "!!! Warning !!! Distance between atoms 20 and 18 (0.993680 A) is suspicious.\n",
      "!!! Warning !!! Distance between atoms 22 and 21 (0.997196 A) is suspicious.\n",
      "!!! Warning !!! Distance between atoms 29 and 28 (0.996594 A) is suspicious.\n",
      "!!! Warning !!! Distance between atoms 32 and 31 (0.998549 A) is suspicious.\n",
      "!!! Warning !!! Distance between atoms 33 and 31 (0.993680 A) is suspicious.\n",
      "!!! Warning !!! Distance between atoms 35 and 34 (0.996845 A) is suspicious.\n",
      "!!! Warning !!! Distance between atoms 39 and 37 (0.993680 A) is suspicious.\n",
      "!!! Warning !!! Distance between atoms 41 and 40 (0.997196 A) is suspicious.\n",
      "/ccs/proj/bip258/reeceneff/ptmpsi-env/lib/python3.11/site-packages/meeko/molsetup.py:1613: UserWarning: RDKit molecule has query. Check exotic fields (atom or bond) in SDF.\n",
      "  warnings.warn(f\"RDKit molecule has query. Check exotic fields (atom or bond) in SDF.\")\n"
     ]
    },
    {
     "name": "stdout",
     "output_type": "stream",
     "text": [
      "templates=<meeko.linked_rdkit_chorizo.ResidueChemTemplates object at 0x7f9e01010650>\n"
     ]
    },
    {
     "name": "stderr",
     "output_type": "stream",
     "text": [
      "[18:27:56] product atom-mapping number 11 not found in reactants.\n",
      "[18:27:56] product atom-mapping number 12 not found in reactants.\n",
      "[18:27:56] product atom-mapping number 11 not found in reactants.\n",
      "[18:27:56] product atom-mapping number 12 not found in reactants.\n",
      "[18:27:56] product atom-mapping number 13 not found in reactants.\n",
      "[18:27:56] product atom-mapping number 11 not found in reactants.\n",
      "[18:27:56] product atom-mapping number 12 not found in reactants.\n"
     ]
    },
    {
     "name": "stdout",
     "output_type": "stream",
     "text": [
      "\n",
      "Files written:\n",
      "cutinase.pdbqt <-- static (i.e., rigid) receptor input file\n",
      "AutoDock Vina v1.2.5\n",
      "#################################################################\n",
      "# If you used AutoDock Vina in your work, please cite:          #\n",
      "#                                                               #\n",
      "# J. Eberhardt, D. Santos-Martins, A. F. Tillack, and S. Forli  #\n",
      "# AutoDock Vina 1.2.0: New Docking Methods, Expanded Force      #\n",
      "# Field, and Python Bindings, J. Chem. Inf. Model. (2021)       #\n",
      "# DOI 10.1021/acs.jcim.1c00203                                  #\n",
      "#                                                               #\n",
      "# O. Trott, A. J. Olson,                                        #\n",
      "# AutoDock Vina: improving the speed and accuracy of docking    #\n",
      "# with a new scoring function, efficient optimization and       #\n",
      "# multithreading, J. Comp. Chem. (2010)                         #\n",
      "# DOI 10.1002/jcc.21334                                         #\n",
      "#                                                               #\n",
      "# Please see https://github.com/ccsb-scripps/AutoDock-Vina for  #\n",
      "# more information.                                             #\n",
      "#################################################################\n",
      "\n",
      "Scoring function : vina\n",
      "Rigid receptor: cutinase.pdbqt\n",
      "Ligand: nylon6.pdbqt\n",
      "Grid center: X -36.4267 Y -1.46197 Z 12.6611\n",
      "Grid size  : X 20 Y 20 Z 20\n",
      "Grid space : 0.375\n",
      "Exhaustiveness: 32\n",
      "CPU: 8\n",
      "Verbosity: 1\n",
      "\n",
      "Computing Vina grid ... done.\n",
      "Performing docking (random seed: -1270197344) ... \n",
      "0%   10   20   30   40   50   60   70   80   90   100%\n",
      "|----|----|----|----|----|----|----|----|----|----|\n",
      "***************************************************\n",
      "\n",
      "mode |   affinity | dist from best mode\n",
      "     | (kcal/mol) | rmsd l.b.| rmsd u.b.\n",
      "-----+------------+----------+----------\n",
      "   1         -5.1          0          0\n",
      "   2        -4.96       1.46       2.14\n",
      "   3       -4.909      2.693      3.371\n",
      "   4       -4.843       1.63      7.376\n",
      "   5       -4.739      1.827      2.217\n",
      "   6       -4.738      2.465      3.471\n",
      "   7       -4.693      1.768      6.427\n",
      "   8       -4.681      1.396      7.021\n",
      "   9       -4.681      2.235       3.76\n"
     ]
    }
   ],
   "source": [
    "docking_dir = os.path.join(tutorial_directory, 'docking_output')\n",
    "os.makedirs(docking_dir, exist_ok=True)\n",
    "os.chdir(docking_dir)\n",
    "cutinase = Protein(pdbid=\"6tht\")\n",
    "cutinase.mutate(\"A:ALA130\",\"SER\")\n",
    "cutinase.write_pdb(\"cutinase.pdb\")\n",
    "\n",
    "nylon6 = Protein()\n",
    "nylon6.prepend(\"A\", \"EAC\")\n",
    "nylon6.prepend(\"A\", \"ACE\")\n",
    "nylon6.append(\"A\", \"EAC\")\n",
    "nylon6.append(\"A\", \"NME\")\n",
    "nylon6.write_xyz(\"nylon6.xyz\")\n",
    "cutinase.dock(ligand=\"nylon6.xyz\", receptor=\"cutinase.pdb\", boxcenter=\"A:SER130\", boxsize=20.0)\n",
    "os.chdir(tutorial_directory)"
   ]
  },
  {
   "cell_type": "markdown",
   "id": "41a87abc-1274-4ed1-9f6b-edeeec6aeccb",
   "metadata": {},
   "source": [
    "# NWChem QM/MM input generation\n",
    "Note: this run takes over 18 hours."
   ]
  },
  {
   "cell_type": "code",
   "execution_count": 5,
   "id": "2a6f895a-9a29-4108-b443-8f07587f87e5",
   "metadata": {},
   "outputs": [],
   "source": [
    "os.chdir(docking_dir)\n",
    "cutinase.protonate()\n",
    "cutinase.write_pdb(\"cutinase.pdb\")\n",
    "\n",
    "ptmpsi.docking.write_pdb(cutinase.docking, filename=\"test2.pdb\", pose=0, template=nylon6)\n",
    "test2_path = os.path.join(os.getcwd(), \"test2.pdb\")\n",
    "qmmm_submission = os.path.join(tutorial_directory, 'qmmm_submission')\n",
    "ptmpsi.nwchem.qmmm_optimize(filename=test2_path, qmres=[130,207,259,260,261,262], counter=True, totcharge=cutinase.charge, xcfun=\"pbe96\", grid=\"medium\", aobasis=\"def2-svp\",  path=qmmm_submission, account=account, machine=machine, partition=long_partition, time=24, nnodes=2)\n",
    "os.chdir(tutorial_directory)"
   ]
  },
  {
   "cell_type": "markdown",
   "id": "3e685af7",
   "metadata": {},
   "source": [
    "Below is an example for submitting `qmmm_optimization.sbatch`"
   ]
  },
  {
   "cell_type": "code",
   "execution_count": 6,
   "id": "9361b809",
   "metadata": {},
   "outputs": [
    {
     "name": "stdout",
     "output_type": "stream",
     "text": [
      "Submitted batch job 2619273\n"
     ]
    }
   ],
   "source": [
    "os.chdir(qmmm_submission)\n",
    "os.system('sbatch qmmm_optimization.sbatch')\n",
    "os.chdir(tutorial_directory)"
   ]
  },
  {
   "cell_type": "markdown",
   "id": "1ab615c1-6f7c-4765-9634-e112e297c118",
   "metadata": {},
   "source": [
    "# Generate post-translational modification combinations"
   ]
  },
  {
   "cell_type": "markdown",
   "id": "cfb3a8bc-1558-4bbf-877d-c6cd1b50d6c3",
   "metadata": {},
   "source": [
    "- Load the GAP2/CP12/PRK complex"
   ]
  },
  {
   "cell_type": "code",
   "execution_count": 7,
   "id": "e4bf3b98-df64-4b08-84b1-a7e85bfc2ab5",
   "metadata": {},
   "outputs": [
    {
     "name": "stdout",
     "output_type": "stream",
     "text": [
      "\t Downloading file from the Protein Databank\n"
     ]
    }
   ],
   "source": [
    "protein = Protein(pdbid=\"6gve\")"
   ]
  },
  {
   "cell_type": "markdown",
   "id": "2c2e8292-33bf-4a74-aca8-c34615de37e4",
   "metadata": {},
   "source": [
    "- Find all cysteine residues"
   ]
  },
  {
   "cell_type": "code",
   "execution_count": 8,
   "id": "f20ac6bb-7052-425d-a346-95fd6c13de1c",
   "metadata": {},
   "outputs": [
    {
     "name": "stdout",
     "output_type": "stream",
     "text": [
      "D:CYS19\n",
      "D:CYS67\n",
      "D:CYS77\n",
      "D:CYS154\n",
      "D:CYS158\n",
      "A:CYS19\n",
      "A:CYS67\n",
      "A:CYS77\n",
      "A:CYS154\n",
      "A:CYS158\n",
      "E:CYS19\n",
      "E:CYS67\n",
      "E:CYS77\n",
      "E:CYS154\n",
      "E:CYS158\n",
      "F:CYS19\n",
      "F:CYS67\n",
      "F:CYS77\n",
      "F:CYS154\n",
      "F:CYS158\n",
      "I:CYS19\n",
      "I:CYS67\n",
      "I:CYS77\n",
      "I:CYS154\n",
      "I:CYS158\n",
      "K:CYS19\n",
      "K:CYS67\n",
      "K:CYS77\n",
      "K:CYS154\n",
      "K:CYS158\n",
      "N:CYS19\n",
      "N:CYS67\n",
      "N:CYS77\n",
      "N:CYS154\n",
      "N:CYS158\n",
      "O:CYS19\n",
      "O:CYS67\n",
      "O:CYS77\n",
      "O:CYS154\n",
      "O:CYS158\n"
     ]
    }
   ],
   "source": [
    "protein.findresidue(\"CYS\")"
   ]
  },
  {
   "cell_type": "markdown",
   "id": "67c5ea87-bbc4-4957-881a-999de9050654",
   "metadata": {},
   "source": [
    "- Generate all posible single combinations (ntuple=1) for nitrosylation and sulfhydration"
   ]
  },
  {
   "cell_type": "code",
   "execution_count": 9,
   "id": "a6390670-1a75-44db-9a44-0cf331726686",
   "metadata": {},
   "outputs": [
    {
     "name": "stdout",
     "output_type": "stream",
     "text": [
      "\tNumber of 1-tuple combinations: 80\n",
      "Total number of combinations: 80\n"
     ]
    }
   ],
   "source": [
    "combinations1 = protein.get_ptm_combinations([(\"CYS\", \"nitrosylation\"),(\"CYS\",\"sulfhydration\")], ntuple=1)"
   ]
  },
  {
   "cell_type": "markdown",
   "id": "46224a4f-95f7-4725-bd98-9547d2cef80a",
   "metadata": {},
   "source": [
    "- List all generated combinations"
   ]
  },
  {
   "cell_type": "code",
   "execution_count": 10,
   "id": "fefbc3d7-4e6a-4315-9a8b-07baf7a1d144",
   "metadata": {},
   "outputs": [
    {
     "name": "stdout",
     "output_type": "stream",
     "text": [
      "Residue         PTM\n",
      "D:CYS19      nitrosylation       \n",
      "D:CYS67      nitrosylation       \n",
      "D:CYS77      nitrosylation       \n",
      "D:CYS154     nitrosylation       \n",
      "D:CYS158     nitrosylation       \n",
      "A:CYS19      nitrosylation       \n",
      "A:CYS67      nitrosylation       \n",
      "A:CYS77      nitrosylation       \n",
      "A:CYS154     nitrosylation       \n",
      "A:CYS158     nitrosylation       \n",
      "E:CYS19      nitrosylation       \n",
      "E:CYS67      nitrosylation       \n",
      "E:CYS77      nitrosylation       \n",
      "E:CYS154     nitrosylation       \n",
      "E:CYS158     nitrosylation       \n",
      "F:CYS19      nitrosylation       \n",
      "F:CYS67      nitrosylation       \n",
      "F:CYS77      nitrosylation       \n",
      "F:CYS154     nitrosylation       \n",
      "F:CYS158     nitrosylation       \n",
      "I:CYS19      nitrosylation       \n",
      "I:CYS67      nitrosylation       \n",
      "I:CYS77      nitrosylation       \n",
      "I:CYS154     nitrosylation       \n",
      "I:CYS158     nitrosylation       \n",
      "K:CYS19      nitrosylation       \n",
      "K:CYS67      nitrosylation       \n",
      "K:CYS77      nitrosylation       \n",
      "K:CYS154     nitrosylation       \n",
      "K:CYS158     nitrosylation       \n",
      "N:CYS19      nitrosylation       \n",
      "N:CYS67      nitrosylation       \n",
      "N:CYS77      nitrosylation       \n",
      "N:CYS154     nitrosylation       \n",
      "N:CYS158     nitrosylation       \n",
      "O:CYS19      nitrosylation       \n",
      "O:CYS67      nitrosylation       \n",
      "O:CYS77      nitrosylation       \n",
      "O:CYS154     nitrosylation       \n",
      "O:CYS158     nitrosylation       \n",
      "D:CYS19      sulfhydration       \n",
      "D:CYS67      sulfhydration       \n",
      "D:CYS77      sulfhydration       \n",
      "D:CYS154     sulfhydration       \n",
      "D:CYS158     sulfhydration       \n",
      "A:CYS19      sulfhydration       \n",
      "A:CYS67      sulfhydration       \n",
      "A:CYS77      sulfhydration       \n",
      "A:CYS154     sulfhydration       \n",
      "A:CYS158     sulfhydration       \n",
      "E:CYS19      sulfhydration       \n",
      "E:CYS67      sulfhydration       \n",
      "E:CYS77      sulfhydration       \n",
      "E:CYS154     sulfhydration       \n",
      "E:CYS158     sulfhydration       \n",
      "F:CYS19      sulfhydration       \n",
      "F:CYS67      sulfhydration       \n",
      "F:CYS77      sulfhydration       \n",
      "F:CYS154     sulfhydration       \n",
      "F:CYS158     sulfhydration       \n",
      "I:CYS19      sulfhydration       \n",
      "I:CYS67      sulfhydration       \n",
      "I:CYS77      sulfhydration       \n",
      "I:CYS154     sulfhydration       \n",
      "I:CYS158     sulfhydration       \n",
      "K:CYS19      sulfhydration       \n",
      "K:CYS67      sulfhydration       \n",
      "K:CYS77      sulfhydration       \n",
      "K:CYS154     sulfhydration       \n",
      "K:CYS158     sulfhydration       \n",
      "N:CYS19      sulfhydration       \n",
      "N:CYS67      sulfhydration       \n",
      "N:CYS77      sulfhydration       \n",
      "N:CYS154     sulfhydration       \n",
      "N:CYS158     sulfhydration       \n",
      "O:CYS19      sulfhydration       \n",
      "O:CYS67      sulfhydration       \n",
      "O:CYS77      sulfhydration       \n",
      "O:CYS154     sulfhydration       \n",
      "O:CYS158     sulfhydration       \n"
     ]
    }
   ],
   "source": [
    "print(\"Residue         PTM\")\n",
    "for ptm in combinations1[0]:\n",
    "    print(f\"{ptm[0][0]:10s}   {ptm[0][1]:20s}\")"
   ]
  },
  {
   "cell_type": "markdown",
   "id": "8fea888e-34ea-4a74-bc3e-2ebe3725d960",
   "metadata": {},
   "source": [
    "- Generate all possible single and double combinations excluding modification of all CYS19 and CYS77 of GAP2"
   ]
  },
  {
   "cell_type": "code",
   "execution_count": 11,
   "id": "53dad55b-d93a-464a-9555-4a865bf5a076",
   "metadata": {},
   "outputs": [
    {
     "name": "stdout",
     "output_type": "stream",
     "text": [
      "\tNumber of 1-tuple combinations: 48\n",
      "\tNumber of 2-tuple combinations: 1104\n",
      "Total number of combinations: 1152\n"
     ]
    }
   ],
   "source": [
    "exclude = [ f\"{chain}:{res}\" for chain in [\"A\", \"D\", \"E\", \"F\", \"I\", \"K\", \"N\", \"O\"] for res in [\"CYS19\", \"CYS77\"] ]\n",
    "combinations2 = protein.get_ptm_combinations([(\"CYS\", \"nitrosylation\"),(\"CYS\",\"sulfhydration\")], exclude=exclude, ntuple=2)"
   ]
  },
  {
   "cell_type": "markdown",
   "id": "b2ca552a-9917-4fd3-b3dd-b740cf581e35",
   "metadata": {},
   "source": [
    "- Find all cysteine residues involved in disulfide bonds (identifed as CYX)"
   ]
  },
  {
   "cell_type": "code",
   "execution_count": 12,
   "id": "2dd4bf8b-915b-4fbe-9b49-06d4ce365472",
   "metadata": {},
   "outputs": [
    {
     "name": "stdout",
     "output_type": "stream",
     "text": [
      "P:CYX19\n",
      "P:CYX29\n",
      "P:CYX61\n",
      "P:CYX70\n",
      "J:CYX13\n",
      "J:CYX35\n",
      "J:CYX224\n",
      "J:CYX230\n",
      "B:CYX13\n",
      "B:CYX35\n",
      "B:CYX224\n",
      "B:CYX230\n",
      "G:CYX13\n",
      "G:CYX35\n",
      "G:CYX224\n",
      "G:CYX230\n",
      "L:CYX13\n",
      "L:CYX35\n",
      "L:CYX224\n",
      "L:CYX230\n",
      "C:CYX19\n",
      "C:CYX29\n",
      "C:CYX61\n",
      "C:CYX70\n",
      "H:CYX19\n",
      "H:CYX29\n",
      "H:CYX61\n",
      "H:CYX70\n",
      "M:CYX19\n",
      "M:CYX29\n",
      "M:CYX61\n",
      "M:CYX70\n"
     ]
    }
   ],
   "source": [
    "protein.findresidue(\"CYX\")"
   ]
  },
  {
   "cell_type": "markdown",
   "id": "6aa90a02-1b21-4175-9ddc-8f1b65aa51e0",
   "metadata": {},
   "source": [
    "- Generate a combination list that reduces both disulfide bonds of CP12 chain M"
   ]
  },
  {
   "cell_type": "code",
   "execution_count": 13,
   "id": "47cc9d2d-158e-42d7-8149-9ed9a15b30ce",
   "metadata": {},
   "outputs": [
    {
     "name": "stdout",
     "output_type": "stream",
     "text": [
      "\tNumber of 1-tuple combinations: 4\n",
      "\tNumber of 2-tuple combinations: 6\n",
      "\tNumber of 3-tuple combinations: 4\n",
      "\tNumber of 4-tuple combinations: 1\n",
      "Total number of combinations: 15\n"
     ]
    }
   ],
   "source": [
    "combinations3 = protein.get_ptm_combinations([(\"M:CYX\", \"reduction\")], ntuple=4)"
   ]
  },
  {
   "cell_type": "code",
   "execution_count": 14,
   "id": "c7c94cec-12a3-4cd6-bfcb-df10ea5df0ae",
   "metadata": {},
   "outputs": [
    {
     "name": "stdout",
     "output_type": "stream",
     "text": [
      "1-tuple\n",
      "     Residue         PTM\n",
      "  1  M:CYX19      reduction           \n",
      "  2  M:CYX29      reduction           \n",
      "  3  M:CYX61      reduction           \n",
      "  4  M:CYX70      reduction           \n",
      "\n",
      "2-tuple\n",
      "     Residue1       PTM1     Residue2       PTM2\n",
      "  1   M:CYX19    reduction    M:CYX29    reduction    \n",
      "  2   M:CYX19    reduction    M:CYX61    reduction    \n",
      "  3   M:CYX19    reduction    M:CYX70    reduction    \n",
      "  4   M:CYX29    reduction    M:CYX61    reduction    \n",
      "  5   M:CYX29    reduction    M:CYX70    reduction    \n",
      "  6   M:CYX61    reduction    M:CYX70    reduction    \n",
      "\n",
      "3-tuple\n",
      "     Residue1       PTM1     Residue2       PTM2     Residue3      PTM3\n",
      "  1   M:CYX19    reduction    M:CYX29    reduction    M:CYX61    reduction    \n",
      "  2   M:CYX19    reduction    M:CYX29    reduction    M:CYX70    reduction    \n",
      "  3   M:CYX19    reduction    M:CYX61    reduction    M:CYX70    reduction    \n",
      "  4   M:CYX29    reduction    M:CYX61    reduction    M:CYX70    reduction    \n",
      "\n",
      "4-tuple\n",
      "     Residue1       PTM1     Residue2       PTM2     Residue3      PTM3      Residue4      PTM4\n",
      "  1   M:CYX19    reduction    M:CYX29    reduction    M:CYX61    reduction    M:CYX70    reduction    \n"
     ]
    }
   ],
   "source": [
    "print(\"1-tuple\")\n",
    "print(\"     Residue         PTM\")\n",
    "for i,ptm in enumerate(combinations3[0]):\n",
    "    for residue in ptm:\n",
    "        print(f\"{i+1:3d}  {residue[0]:10s}   {residue[1]:20s}\")\n",
    "\n",
    "print()\n",
    "print(\"2-tuple\")\n",
    "print(\"     Residue1       PTM1     Residue2       PTM2\")\n",
    "for i,ptm in enumerate(combinations3[1]):\n",
    "    print(f\"{i+1:3d}   \", end=\"\")\n",
    "    for residue in ptm:\n",
    "        print(f\"{residue[0]}    {residue[1]}    \", end=\"\")\n",
    "    print()\n",
    "\n",
    "print()\n",
    "print(\"3-tuple\")\n",
    "print(\"     Residue1       PTM1     Residue2       PTM2     Residue3      PTM3\")\n",
    "for i,ptm in enumerate(combinations3[2]):\n",
    "    print(f\"{i+1:3d}   \", end=\"\")\n",
    "    for residue in ptm:\n",
    "        print(f\"{residue[0]}    {residue[1]}    \", end=\"\")\n",
    "    print()\n",
    "\n",
    "print()\n",
    "print(\"4-tuple\")\n",
    "print(\"     Residue1       PTM1     Residue2       PTM2     Residue3      PTM3      Residue4      PTM4\")\n",
    "for i,ptm in enumerate(combinations3[3]):\n",
    "    print(f\"{i+1:3d}   \", end=\"\")\n",
    "    for residue in ptm:\n",
    "        print(f\"{residue[0]}    {residue[1]}    \", end=\"\")\n",
    "    print()\n"
   ]
  },
  {
   "cell_type": "markdown",
   "id": "115de7bc-75cb-497b-bc24-4d79a5ff9e3f",
   "metadata": {},
   "source": [
    "Note that some double (2-tuple) combinations and the quadruple (4-tuple) combination are the only ones that make sense for this case as CYX19 is bonded to CYX29 and CYX61 is bonded to CYX70."
   ]
  },
  {
   "cell_type": "markdown",
   "id": "6aa2ba25-842b-46e3-ba38-673ec6f46012",
   "metadata": {},
   "source": [
    "- Generate the run files for the quadruple combination\n",
    "\n",
    "The following command will generate a folder inside gromacs_sims with a unique identifier (UID) with all the necessary files to submit a full set of GROMACS MD simulations including energy minimization, equilibration, and a 100 ns production run. Note that there is a modified **specbond.dat** file that will prevent GROMACS from forming a disulfide bond between spatially close **CYS** residues, but it will still form disulfide bonds between two nearby **CYX** residues."
   ]
  },
  {
   "cell_type": "code",
   "execution_count": 15,
   "id": "b8022eb0-d990-4bef-8912-ab26d263416d",
   "metadata": {},
   "outputs": [
    {
     "name": "stdout",
     "output_type": "stream",
     "text": [
      "\t Reading local PDB file\n",
      "reduction CYS\n",
      "\n",
      "\t Found rotamer with no clashes!\n",
      "reduction CYS\n",
      "\n",
      "\t Current rotamer has 4 possible clashes\n",
      "\t Current rotamer has 4 possible clashes\n",
      "\t Current rotamer has 3 possible clashes\n",
      "\t Current rotamer has 3 possible clashes\n",
      "\t Current rotamer has 2 possible clashes\n",
      "\t Current rotamer has 2 possible clashes\n",
      "\t Current rotamer has 2 possible clashes\n",
      "\t Current rotamer has 2 possible clashes\n",
      "\t Current rotamer has 2 possible clashes\n",
      "\t Current rotamer has 2 possible clashes\n",
      "\t Current rotamer has 2 possible clashes\n",
      "\t Current rotamer has 3 possible clashes\n",
      "\t Current rotamer has 2 possible clashes\n",
      "\t Current rotamer has 2 possible clashes\n",
      "\t Current rotamer has 1 possible clashes\n",
      "\t Current rotamer has 1 possible clashes\n",
      "\n",
      "\t Found rotamer with no clashes!\n",
      "reduction CYS\n",
      "\n",
      "\t Found rotamer with no clashes!\n",
      "reduction CYS\n",
      "\n",
      "\t Current rotamer has 2 possible clashes\n",
      "\t Current rotamer has 1 possible clashes\n",
      "\t Current rotamer has 2 possible clashes\n",
      "\t Current rotamer has 2 possible clashes\n",
      "\t Current rotamer has 1 possible clashes\n",
      "\t Current rotamer has 1 possible clashes\n",
      "\t Current rotamer has 1 possible clashes\n",
      "\t Current rotamer has 1 possible clashes\n",
      "\t Current rotamer has 1 possible clashes\n",
      "\t Current rotamer has 1 possible clashes\n",
      "\t Current rotamer has 2 possible clashes\n",
      "\t Current rotamer has 2 possible clashes\n",
      "\t Current rotamer has 1 possible clashes\n",
      "\t Current rotamer has 1 possible clashes\n",
      "\n",
      "\t Found rotamer with no clashes!\n",
      "\n",
      "Execute the following command to run the simulation: `cd /autofs/nccs-svm1_proj/bip258/reeceneff/ptmpsi-env/PTMPSI/tutorials/gromacs_sims/8a1cb548-b115-48a9-984d-14dfbf32ecbb && sbatch run.sh`\n"
     ]
    }
   ],
   "source": [
    "gromacs_path = os.path.join(os.getcwd(), \"gromacs_sims\")\n",
    "uid = protein.gen_ptm_files([combinations3[3]], lenmd=1, lennvt=100, lennpt=100, path=gromacs_path, machine=machine, account=account, **gromacs_options, partition=\"extended\", time=8)\n",
    "print(f'\\nExecute the following command to run the simulation: `cd {os.path.join(gromacs_path, uid)} && ./submit.sh`')"
   ]
  },
  {
   "cell_type": "markdown",
   "id": "204062b7",
   "metadata": {},
   "source": [
    "The following command will execute the submission script to automatically sbatch\n",
    "the necessary files."
   ]
  },
  {
   "cell_type": "code",
   "execution_count": 17,
   "id": "b55dbeea-a988-4f84-b39e-b1d55a514635",
   "metadata": {},
   "outputs": [
    {
     "name": "stdout",
     "output_type": "stream",
     "text": [
      "Submitted batch job 2619471\n",
      "Submitted batch job 2619473\n",
      "Submitted batch job 2619475\n",
      "Submitted batch job 2619477\n",
      "Submitted batch job 2619479\n",
      "Submitted batch job 2619482\n",
      "Submitted batch job 2619484\n",
      "Submitted batch job 2619485\n",
      "Submitted batch job 2619487\n",
      "Submitted batch job 2619489\n",
      "Submitted batch job 2619491\n",
      "Submitted batch job 2619493\n",
      "Submitted batch job 2619495\n"
     ]
    }
   ],
   "source": [
    "os.chdir(os.path.join(gromacs_path, uid))\n",
    "os.system(\"chmod +x submit.sh\")\n",
    "os.system(\"./submit.sh\")\n",
    "os.chdir(tutorial_directory)"
   ]
  }
 ],
 "metadata": {
  "kernelspec": {
   "display_name": "Python 3 (ipykernel)",
   "language": "python",
   "name": "python3"
  },
  "language_info": {
   "codemirror_mode": {
    "name": "ipython",
    "version": 3
   },
   "file_extension": ".py",
   "mimetype": "text/x-python",
   "name": "python",
   "nbconvert_exporter": "python",
   "pygments_lexer": "ipython3",
   "version": "3.11.9"
  }
 },
 "nbformat": 4,
 "nbformat_minor": 5
}
