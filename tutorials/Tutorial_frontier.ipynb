{
 "cells": [
  {
   "cell_type": "code",
   "execution_count": 1,
   "id": "579006e2-64b1-424d-9fff-38b3e6f22aa0",
   "metadata": {},
   "outputs": [],
   "source": [
    "import ptmpsi\n",
    "from ptmpsi.alphafold import prediction\n",
    "from ptmpsi.protein import Protein\n",
    "from ptmpsi.nwchem import get_qm_data\n",
    "from ptmpsi.polymers.tools import gen_pdb"
   ]
  },
  {
   "cell_type": "markdown",
   "id": "342a93b7-4082-40d7-bd9f-8398801e7b72",
   "metadata": {},
   "source": [
    "# Structure Prediction with AlphaFold"
   ]
  },
  {
   "cell_type": "markdown",
   "id": "e086796e-55da-4899-a78a-f86f53eb2414",
   "metadata": {},
   "source": [
    "## Pass a FASTA sequence to the `prediction` function"
   ]
  },
  {
   "cell_type": "code",
   "execution_count": 2,
   "id": "e3623000-2bd7-4661-8d26-21c81c37ae67",
   "metadata": {},
   "outputs": [
    {
     "name": "stdout",
     "output_type": "stream",
     "text": [
      "\t Info: Frontier will use experimental container for alphafold 2.3.2 from /sw/frontier/preview/modulefiles/\n",
      "\n",
      "\t Info: Make sure to copy alphafold.sbatch, run_singularity.py, your\n",
      "\t       fasta files and all generated temp*.fasta files to a submission\n",
      "\t       directory and execute `sbatch alphafold.sbatch`\n"
     ]
    }
   ],
   "source": [
    "prediction(\"GGGGGGGGGGG\", multimer=False, machine='frontier', account='bip258')"
   ]
  },
  {
   "cell_type": "markdown",
   "id": "8f281047-cde6-4fa9-8967-ef5b22bccb5d",
   "metadata": {},
   "source": [
    "Three files will be generated in the current working directory: `alphafold.sbatch`, `run_singularity.py` and `temp1.fasta`.\n",
    "Paths to the required databases will default to their location in the Tahoma cluster.\n",
    "\n",
    "The `prediction` function also accepts a list of sequences for the sequential prediction for each one of the sequences.\n",
    "\n",
    "If **multimer** is instead desired, one must pass `multimer=True` to the `prediction` and a path to \n",
    "a file containing two or more sequences with the following format:\n",
    "\n",
    "```\n",
    ">sequence_1\n",
    "GGGGGGGG\n",
    "\n",
    ">sequence_2\n",
    "AAAAAAAA\n",
    "```"
   ]
  },
  {
   "cell_type": "markdown",
   "id": "060ee19a-f3b5-4f78-b46f-d1b8409c8241",
   "metadata": {},
   "source": [
    "# Loading a predicted 3D structure\n",
    "\n",
    "The `Protein` class handles all protein/polymer operations. We will use this class to load or build the 3D structure \n",
    "of a polymer. "
   ]
  },
  {
   "cell_type": "markdown",
   "id": "d2076ecc-a895-4790-ae73-e15611e2de6f",
   "metadata": {},
   "source": [
    "## Read a structure from a local PDB file\n",
    "Create a `Protein` object using the `filename` option to pass the path to a local PDB file"
   ]
  },
  {
   "cell_type": "code",
   "execution_count": 13,
   "id": "393a16f2-9926-4bde-9be9-4e6063bfc81e",
   "metadata": {},
   "outputs": [
    {
     "name": "stdout",
     "output_type": "stream",
     "text": [
      "\t Reading local PDB file\n"
     ]
    }
   ],
   "source": [
    "local_pdb = Protein(filename=\"G9BY57.pdb\")"
   ]
  },
  {
   "cell_type": "markdown",
   "id": "8482236d-353e-499b-ad95-44bda7ffd1cf",
   "metadata": {},
   "source": [
    "## Fetch a structure from the Protein Data Bank\n",
    "Only works when internet access is available. Create a `Protein` object using the `pdbid` option to pass a Protein Data Bank ID code."
   ]
  },
  {
   "cell_type": "code",
   "execution_count": 14,
   "id": "9113e2bc-6c68-4335-9980-cd4f50920b6a",
   "metadata": {},
   "outputs": [
    {
     "name": "stdout",
     "output_type": "stream",
     "text": [
      "\t Downloading file from the Protein Databank\n",
      "\t Warning: Atom CA of residue MET91 has alternate locations\n",
      "\t\t Selecting location 'A' with occupancy   0.58\n",
      "\t Warning: Atom CB of residue MET91 has alternate locations\n",
      "\t\t Selecting location 'A' with occupancy   0.58\n",
      "\t Warning: Atom CG of residue MET91 has alternate locations\n",
      "\t\t Selecting location 'A' with occupancy   0.58\n",
      "\t Warning: Atom SD of residue MET91 has alternate locations\n",
      "\t\t Selecting location 'A' with occupancy   0.58\n",
      "\t Warning: Atom CE of residue MET91 has alternate locations\n",
      "\t\t Selecting location 'A' with occupancy   0.58\n",
      "\t Warning: Atom CA of residue SER133 has alternate locations\n",
      "\t\t Selecting location 'A' with occupancy   0.57\n",
      "\t Warning: Atom CB of residue SER133 has alternate locations\n",
      "\t\t Selecting location 'A' with occupancy   0.57\n",
      "\t Warning: Atom OG of residue SER133 has alternate locations\n",
      "\t\t Selecting location 'A' with occupancy   0.57\n",
      "\t Warning: Atom CA of residue SER136 has alternate locations\n",
      "\t\t Selecting location 'B' with occupancy   0.63\n",
      "\t Warning: Atom CB of residue SER136 has alternate locations\n",
      "\t\t Selecting location 'B' with occupancy   0.63\n",
      "\t Warning: Atom OG of residue SER136 has alternate locations\n",
      "\t\t Selecting location 'A' with occupancy   0.63\n",
      "\t Warning: Atom CA of residue ASN140 has alternate locations\n",
      "\t\t Selecting location 'A' with occupancy   0.60\n",
      "\t Warning: Atom CB of residue ASN140 has alternate locations\n",
      "\t\t Selecting location 'A' with occupancy   0.60\n",
      "\t Warning: Atom CG of residue ASN140 has alternate locations\n",
      "\t\t Selecting location 'A' with occupancy   0.60\n",
      "\t Warning: Atom OD1 of residue ASN140 has alternate locations\n",
      "\t\t Selecting location 'A' with occupancy   0.60\n",
      "\t Warning: Atom ND2 of residue ASN140 has alternate locations\n",
      "\t\t Selecting location 'A' with occupancy   0.60\n",
      "\t Warning: Atom CA of residue SER228 has alternate locations\n",
      "\t\t Selecting location 'B' with occupancy   0.60\n",
      "\t Warning: Atom CB of residue SER228 has alternate locations\n",
      "\t\t Selecting location 'B' with occupancy   0.60\n",
      "\t Warning: Atom OG of residue SER228 has alternate locations\n",
      "\t\t Selecting location 'A' with occupancy   0.60\n",
      "\t Warning: Atom CA of residue CYS238 has alternate locations\n",
      "\t\t Selecting location 'A' with occupancy   0.60\n",
      "\t Warning: Atom CB of residue CYS238 has alternate locations\n",
      "\t\t Selecting location 'A' with occupancy   0.60\n",
      "\t Warning: Atom SG of residue CYS238 has alternate locations\n",
      "\t\t Selecting location 'A' with occupancy   0.60\n",
      "\t Warning: Atom CA of residue SER241 has alternate locations\n",
      "\t\t Selecting location 'A' with occupancy   0.50\n",
      "\t Warning: Atom CB of residue SER241 has alternate locations\n",
      "\t\t Selecting location 'A' with occupancy   0.50\n",
      "\t Warning: Atom OG of residue SER241 has alternate locations\n",
      "\t\t Selecting location 'A' with occupancy   0.50\n",
      "\t Warning: Atom CA of residue CYS283 has alternate locations\n",
      "\t\t Selecting location 'A' with occupancy   0.60\n",
      "\t Warning: Atom CB of residue CYS283 has alternate locations\n",
      "\t\t Selecting location 'A' with occupancy   0.60\n",
      "\t Warning: Atom SG of residue CYS283 has alternate locations\n",
      "\t\t Selecting location 'A' with occupancy   0.60\n"
     ]
    }
   ],
   "source": [
    "fetched_pdb = Protein(pdbid=\"6tht\")"
   ]
  },
  {
   "cell_type": "markdown",
   "id": "1a169015-59ae-46ea-8c31-9dfb2381655f",
   "metadata": {},
   "source": [
    "## Fetch a structure from the AlphaFold Database\n",
    "Only works when internet access is available. Create a `Protein` object using the `uniprotid` option to pass a Uniprot ID code."
   ]
  },
  {
   "cell_type": "code",
   "execution_count": 15,
   "id": "e9a48fdc-e7f2-4be9-9e61-682b715e835e",
   "metadata": {},
   "outputs": [
    {
     "name": "stdout",
     "output_type": "stream",
     "text": [
      "\t Downloading file from the AlphaFold Protein Structure Database\n"
     ]
    },
    {
     "ename": "KeyboardInterrupt",
     "evalue": "",
     "output_type": "error",
     "traceback": [
      "\u001b[0;31m---------------------------------------------------------------------------\u001b[0m",
      "\u001b[0;31mKeyboardInterrupt\u001b[0m                         Traceback (most recent call last)",
      "Cell \u001b[0;32mIn[15], line 1\u001b[0m\n\u001b[0;32m----> 1\u001b[0m uniprot_pdb \u001b[38;5;241m=\u001b[39m \u001b[43mProtein\u001b[49m\u001b[43m(\u001b[49m\u001b[43muniprotid\u001b[49m\u001b[38;5;241;43m=\u001b[39;49m\u001b[38;5;124;43m\"\u001b[39;49m\u001b[38;5;124;43mG9BY57\u001b[39;49m\u001b[38;5;124;43m\"\u001b[39;49m\u001b[43m)\u001b[49m\n",
      "File \u001b[0;32m/autofs/nccs-svm1_proj/bip258/reeceneff/ptmpsi-env/PTMPSI/ptmpsi/protein/__init__.py:57\u001b[0m, in \u001b[0;36mProtein.__init__\u001b[0;34m(self, filename, pdbid, uniprotid, interactive, delwat, delhet)\u001b[0m\n\u001b[1;32m     55\u001b[0m \u001b[38;5;28;01melif\u001b[39;00m \u001b[38;5;28mself\u001b[39m\u001b[38;5;241m.\u001b[39muniprotid \u001b[38;5;129;01mis\u001b[39;00m \u001b[38;5;129;01mnot\u001b[39;00m \u001b[38;5;28;01mNone\u001b[39;00m:\n\u001b[1;32m     56\u001b[0m     \u001b[38;5;28mprint\u001b[39m(\u001b[38;5;124m\"\u001b[39m\u001b[38;5;130;01m\\t\u001b[39;00m\u001b[38;5;124m Downloading file from the AlphaFold Protein Structure Database\u001b[39m\u001b[38;5;124m\"\u001b[39m)\n\u001b[0;32m---> 57\u001b[0m     response \u001b[38;5;241m=\u001b[39m \u001b[43mrequests\u001b[49m\u001b[38;5;241;43m.\u001b[39;49m\u001b[43mget\u001b[49m\u001b[43m(\u001b[49m\u001b[38;5;124;43m\"\u001b[39;49m\u001b[38;5;124;43mhttps://alphafold.ebi.ac.uk/files/AF-\u001b[39;49m\u001b[38;5;124;43m\"\u001b[39;49m\u001b[38;5;241;43m+\u001b[39;49m\u001b[38;5;28;43mself\u001b[39;49m\u001b[38;5;241;43m.\u001b[39;49m\u001b[43muniprotid\u001b[49m\u001b[38;5;241;43m.\u001b[39;49m\u001b[43mupper\u001b[49m\u001b[43m(\u001b[49m\u001b[43m)\u001b[49m\u001b[38;5;241;43m+\u001b[39;49m\u001b[38;5;124;43m\"\u001b[39;49m\u001b[38;5;124;43m-F1-model_v4.pdb\u001b[39;49m\u001b[38;5;124;43m\"\u001b[39;49m\u001b[43m)\u001b[49m\n\u001b[1;32m     58\u001b[0m     response\u001b[38;5;241m.\u001b[39mraise_for_status()\n\u001b[1;32m     59\u001b[0m     \u001b[38;5;28mself\u001b[39m\u001b[38;5;241m.\u001b[39mpdbfile \u001b[38;5;241m=\u001b[39m response\u001b[38;5;241m.\u001b[39mtext\u001b[38;5;241m.\u001b[39msplitlines()\n",
      "File \u001b[0;32m/ccs/proj/bip258/reeceneff/ptmpsi-env/lib/python3.11/site-packages/requests/api.py:73\u001b[0m, in \u001b[0;36mget\u001b[0;34m(url, params, **kwargs)\u001b[0m\n\u001b[1;32m     62\u001b[0m \u001b[38;5;28;01mdef\u001b[39;00m \u001b[38;5;21mget\u001b[39m(url, params\u001b[38;5;241m=\u001b[39m\u001b[38;5;28;01mNone\u001b[39;00m, \u001b[38;5;241m*\u001b[39m\u001b[38;5;241m*\u001b[39mkwargs):\n\u001b[1;32m     63\u001b[0m \u001b[38;5;250m    \u001b[39m\u001b[38;5;124mr\u001b[39m\u001b[38;5;124;03m\"\"\"Sends a GET request.\u001b[39;00m\n\u001b[1;32m     64\u001b[0m \n\u001b[1;32m     65\u001b[0m \u001b[38;5;124;03m    :param url: URL for the new :class:`Request` object.\u001b[39;00m\n\u001b[0;32m   (...)\u001b[0m\n\u001b[1;32m     70\u001b[0m \u001b[38;5;124;03m    :rtype: requests.Response\u001b[39;00m\n\u001b[1;32m     71\u001b[0m \u001b[38;5;124;03m    \"\"\"\u001b[39;00m\n\u001b[0;32m---> 73\u001b[0m     \u001b[38;5;28;01mreturn\u001b[39;00m \u001b[43mrequest\u001b[49m\u001b[43m(\u001b[49m\u001b[38;5;124;43m\"\u001b[39;49m\u001b[38;5;124;43mget\u001b[39;49m\u001b[38;5;124;43m\"\u001b[39;49m\u001b[43m,\u001b[49m\u001b[43m \u001b[49m\u001b[43murl\u001b[49m\u001b[43m,\u001b[49m\u001b[43m \u001b[49m\u001b[43mparams\u001b[49m\u001b[38;5;241;43m=\u001b[39;49m\u001b[43mparams\u001b[49m\u001b[43m,\u001b[49m\u001b[43m \u001b[49m\u001b[38;5;241;43m*\u001b[39;49m\u001b[38;5;241;43m*\u001b[39;49m\u001b[43mkwargs\u001b[49m\u001b[43m)\u001b[49m\n",
      "File \u001b[0;32m/ccs/proj/bip258/reeceneff/ptmpsi-env/lib/python3.11/site-packages/requests/api.py:59\u001b[0m, in \u001b[0;36mrequest\u001b[0;34m(method, url, **kwargs)\u001b[0m\n\u001b[1;32m     55\u001b[0m \u001b[38;5;66;03m# By using the 'with' statement we are sure the session is closed, thus we\u001b[39;00m\n\u001b[1;32m     56\u001b[0m \u001b[38;5;66;03m# avoid leaving sockets open which can trigger a ResourceWarning in some\u001b[39;00m\n\u001b[1;32m     57\u001b[0m \u001b[38;5;66;03m# cases, and look like a memory leak in others.\u001b[39;00m\n\u001b[1;32m     58\u001b[0m \u001b[38;5;28;01mwith\u001b[39;00m sessions\u001b[38;5;241m.\u001b[39mSession() \u001b[38;5;28;01mas\u001b[39;00m session:\n\u001b[0;32m---> 59\u001b[0m     \u001b[38;5;28;01mreturn\u001b[39;00m \u001b[43msession\u001b[49m\u001b[38;5;241;43m.\u001b[39;49m\u001b[43mrequest\u001b[49m\u001b[43m(\u001b[49m\u001b[43mmethod\u001b[49m\u001b[38;5;241;43m=\u001b[39;49m\u001b[43mmethod\u001b[49m\u001b[43m,\u001b[49m\u001b[43m \u001b[49m\u001b[43murl\u001b[49m\u001b[38;5;241;43m=\u001b[39;49m\u001b[43murl\u001b[49m\u001b[43m,\u001b[49m\u001b[43m \u001b[49m\u001b[38;5;241;43m*\u001b[39;49m\u001b[38;5;241;43m*\u001b[39;49m\u001b[43mkwargs\u001b[49m\u001b[43m)\u001b[49m\n",
      "File \u001b[0;32m/ccs/proj/bip258/reeceneff/ptmpsi-env/lib/python3.11/site-packages/requests/sessions.py:587\u001b[0m, in \u001b[0;36mSession.request\u001b[0;34m(self, method, url, params, data, headers, cookies, files, auth, timeout, allow_redirects, proxies, hooks, stream, verify, cert, json)\u001b[0m\n\u001b[1;32m    582\u001b[0m send_kwargs \u001b[38;5;241m=\u001b[39m {\n\u001b[1;32m    583\u001b[0m     \u001b[38;5;124m\"\u001b[39m\u001b[38;5;124mtimeout\u001b[39m\u001b[38;5;124m\"\u001b[39m: timeout,\n\u001b[1;32m    584\u001b[0m     \u001b[38;5;124m\"\u001b[39m\u001b[38;5;124mallow_redirects\u001b[39m\u001b[38;5;124m\"\u001b[39m: allow_redirects,\n\u001b[1;32m    585\u001b[0m }\n\u001b[1;32m    586\u001b[0m send_kwargs\u001b[38;5;241m.\u001b[39mupdate(settings)\n\u001b[0;32m--> 587\u001b[0m resp \u001b[38;5;241m=\u001b[39m \u001b[38;5;28;43mself\u001b[39;49m\u001b[38;5;241;43m.\u001b[39;49m\u001b[43msend\u001b[49m\u001b[43m(\u001b[49m\u001b[43mprep\u001b[49m\u001b[43m,\u001b[49m\u001b[43m \u001b[49m\u001b[38;5;241;43m*\u001b[39;49m\u001b[38;5;241;43m*\u001b[39;49m\u001b[43msend_kwargs\u001b[49m\u001b[43m)\u001b[49m\n\u001b[1;32m    589\u001b[0m \u001b[38;5;28;01mreturn\u001b[39;00m resp\n",
      "File \u001b[0;32m/ccs/proj/bip258/reeceneff/ptmpsi-env/lib/python3.11/site-packages/requests/sessions.py:701\u001b[0m, in \u001b[0;36mSession.send\u001b[0;34m(self, request, **kwargs)\u001b[0m\n\u001b[1;32m    698\u001b[0m start \u001b[38;5;241m=\u001b[39m preferred_clock()\n\u001b[1;32m    700\u001b[0m \u001b[38;5;66;03m# Send the request\u001b[39;00m\n\u001b[0;32m--> 701\u001b[0m r \u001b[38;5;241m=\u001b[39m \u001b[43madapter\u001b[49m\u001b[38;5;241;43m.\u001b[39;49m\u001b[43msend\u001b[49m\u001b[43m(\u001b[49m\u001b[43mrequest\u001b[49m\u001b[43m,\u001b[49m\u001b[43m \u001b[49m\u001b[38;5;241;43m*\u001b[39;49m\u001b[38;5;241;43m*\u001b[39;49m\u001b[43mkwargs\u001b[49m\u001b[43m)\u001b[49m\n\u001b[1;32m    703\u001b[0m \u001b[38;5;66;03m# Total elapsed time of the request (approximately)\u001b[39;00m\n\u001b[1;32m    704\u001b[0m elapsed \u001b[38;5;241m=\u001b[39m preferred_clock() \u001b[38;5;241m-\u001b[39m start\n",
      "File \u001b[0;32m/ccs/proj/bip258/reeceneff/ptmpsi-env/lib/python3.11/site-packages/requests/adapters.py:487\u001b[0m, in \u001b[0;36mHTTPAdapter.send\u001b[0;34m(self, request, stream, timeout, verify, cert, proxies)\u001b[0m\n\u001b[1;32m    484\u001b[0m     timeout \u001b[38;5;241m=\u001b[39m TimeoutSauce(connect\u001b[38;5;241m=\u001b[39mtimeout, read\u001b[38;5;241m=\u001b[39mtimeout)\n\u001b[1;32m    486\u001b[0m \u001b[38;5;28;01mtry\u001b[39;00m:\n\u001b[0;32m--> 487\u001b[0m     resp \u001b[38;5;241m=\u001b[39m \u001b[43mconn\u001b[49m\u001b[38;5;241;43m.\u001b[39;49m\u001b[43murlopen\u001b[49m\u001b[43m(\u001b[49m\n\u001b[1;32m    488\u001b[0m \u001b[43m        \u001b[49m\u001b[43mmethod\u001b[49m\u001b[38;5;241;43m=\u001b[39;49m\u001b[43mrequest\u001b[49m\u001b[38;5;241;43m.\u001b[39;49m\u001b[43mmethod\u001b[49m\u001b[43m,\u001b[49m\n\u001b[1;32m    489\u001b[0m \u001b[43m        \u001b[49m\u001b[43murl\u001b[49m\u001b[38;5;241;43m=\u001b[39;49m\u001b[43murl\u001b[49m\u001b[43m,\u001b[49m\n\u001b[1;32m    490\u001b[0m \u001b[43m        \u001b[49m\u001b[43mbody\u001b[49m\u001b[38;5;241;43m=\u001b[39;49m\u001b[43mrequest\u001b[49m\u001b[38;5;241;43m.\u001b[39;49m\u001b[43mbody\u001b[49m\u001b[43m,\u001b[49m\n\u001b[1;32m    491\u001b[0m \u001b[43m        \u001b[49m\u001b[43mheaders\u001b[49m\u001b[38;5;241;43m=\u001b[39;49m\u001b[43mrequest\u001b[49m\u001b[38;5;241;43m.\u001b[39;49m\u001b[43mheaders\u001b[49m\u001b[43m,\u001b[49m\n\u001b[1;32m    492\u001b[0m \u001b[43m        \u001b[49m\u001b[43mredirect\u001b[49m\u001b[38;5;241;43m=\u001b[39;49m\u001b[38;5;28;43;01mFalse\u001b[39;49;00m\u001b[43m,\u001b[49m\n\u001b[1;32m    493\u001b[0m \u001b[43m        \u001b[49m\u001b[43massert_same_host\u001b[49m\u001b[38;5;241;43m=\u001b[39;49m\u001b[38;5;28;43;01mFalse\u001b[39;49;00m\u001b[43m,\u001b[49m\n\u001b[1;32m    494\u001b[0m \u001b[43m        \u001b[49m\u001b[43mpreload_content\u001b[49m\u001b[38;5;241;43m=\u001b[39;49m\u001b[38;5;28;43;01mFalse\u001b[39;49;00m\u001b[43m,\u001b[49m\n\u001b[1;32m    495\u001b[0m \u001b[43m        \u001b[49m\u001b[43mdecode_content\u001b[49m\u001b[38;5;241;43m=\u001b[39;49m\u001b[38;5;28;43;01mFalse\u001b[39;49;00m\u001b[43m,\u001b[49m\n\u001b[1;32m    496\u001b[0m \u001b[43m        \u001b[49m\u001b[43mretries\u001b[49m\u001b[38;5;241;43m=\u001b[39;49m\u001b[38;5;28;43mself\u001b[39;49m\u001b[38;5;241;43m.\u001b[39;49m\u001b[43mmax_retries\u001b[49m\u001b[43m,\u001b[49m\n\u001b[1;32m    497\u001b[0m \u001b[43m        \u001b[49m\u001b[43mtimeout\u001b[49m\u001b[38;5;241;43m=\u001b[39;49m\u001b[43mtimeout\u001b[49m\u001b[43m,\u001b[49m\n\u001b[1;32m    498\u001b[0m \u001b[43m        \u001b[49m\u001b[43mchunked\u001b[49m\u001b[38;5;241;43m=\u001b[39;49m\u001b[43mchunked\u001b[49m\u001b[43m,\u001b[49m\n\u001b[1;32m    499\u001b[0m \u001b[43m    \u001b[49m\u001b[43m)\u001b[49m\n\u001b[1;32m    501\u001b[0m \u001b[38;5;28;01mexcept\u001b[39;00m (ProtocolError, \u001b[38;5;167;01mOSError\u001b[39;00m) \u001b[38;5;28;01mas\u001b[39;00m err:\n\u001b[1;32m    502\u001b[0m     \u001b[38;5;28;01mraise\u001b[39;00m \u001b[38;5;167;01mConnectionError\u001b[39;00m(err, request\u001b[38;5;241m=\u001b[39mrequest)\n",
      "File \u001b[0;32m/ccs/proj/bip258/reeceneff/ptmpsi-env/lib/python3.11/site-packages/urllib3/connectionpool.py:715\u001b[0m, in \u001b[0;36mHTTPConnectionPool.urlopen\u001b[0;34m(self, method, url, body, headers, retries, redirect, assert_same_host, timeout, pool_timeout, release_conn, chunked, body_pos, **response_kw)\u001b[0m\n\u001b[1;32m    712\u001b[0m     \u001b[38;5;28mself\u001b[39m\u001b[38;5;241m.\u001b[39m_prepare_proxy(conn)\n\u001b[1;32m    714\u001b[0m \u001b[38;5;66;03m# Make the request on the httplib connection object.\u001b[39;00m\n\u001b[0;32m--> 715\u001b[0m httplib_response \u001b[38;5;241m=\u001b[39m \u001b[38;5;28;43mself\u001b[39;49m\u001b[38;5;241;43m.\u001b[39;49m\u001b[43m_make_request\u001b[49m\u001b[43m(\u001b[49m\n\u001b[1;32m    716\u001b[0m \u001b[43m    \u001b[49m\u001b[43mconn\u001b[49m\u001b[43m,\u001b[49m\n\u001b[1;32m    717\u001b[0m \u001b[43m    \u001b[49m\u001b[43mmethod\u001b[49m\u001b[43m,\u001b[49m\n\u001b[1;32m    718\u001b[0m \u001b[43m    \u001b[49m\u001b[43murl\u001b[49m\u001b[43m,\u001b[49m\n\u001b[1;32m    719\u001b[0m \u001b[43m    \u001b[49m\u001b[43mtimeout\u001b[49m\u001b[38;5;241;43m=\u001b[39;49m\u001b[43mtimeout_obj\u001b[49m\u001b[43m,\u001b[49m\n\u001b[1;32m    720\u001b[0m \u001b[43m    \u001b[49m\u001b[43mbody\u001b[49m\u001b[38;5;241;43m=\u001b[39;49m\u001b[43mbody\u001b[49m\u001b[43m,\u001b[49m\n\u001b[1;32m    721\u001b[0m \u001b[43m    \u001b[49m\u001b[43mheaders\u001b[49m\u001b[38;5;241;43m=\u001b[39;49m\u001b[43mheaders\u001b[49m\u001b[43m,\u001b[49m\n\u001b[1;32m    722\u001b[0m \u001b[43m    \u001b[49m\u001b[43mchunked\u001b[49m\u001b[38;5;241;43m=\u001b[39;49m\u001b[43mchunked\u001b[49m\u001b[43m,\u001b[49m\n\u001b[1;32m    723\u001b[0m \u001b[43m\u001b[49m\u001b[43m)\u001b[49m\n\u001b[1;32m    725\u001b[0m \u001b[38;5;66;03m# If we're going to release the connection in ``finally:``, then\u001b[39;00m\n\u001b[1;32m    726\u001b[0m \u001b[38;5;66;03m# the response doesn't need to know about the connection. Otherwise\u001b[39;00m\n\u001b[1;32m    727\u001b[0m \u001b[38;5;66;03m# it will also try to release it and we'll have a double-release\u001b[39;00m\n\u001b[1;32m    728\u001b[0m \u001b[38;5;66;03m# mess.\u001b[39;00m\n\u001b[1;32m    729\u001b[0m response_conn \u001b[38;5;241m=\u001b[39m conn \u001b[38;5;28;01mif\u001b[39;00m \u001b[38;5;129;01mnot\u001b[39;00m release_conn \u001b[38;5;28;01melse\u001b[39;00m \u001b[38;5;28;01mNone\u001b[39;00m\n",
      "File \u001b[0;32m/ccs/proj/bip258/reeceneff/ptmpsi-env/lib/python3.11/site-packages/urllib3/connectionpool.py:467\u001b[0m, in \u001b[0;36mHTTPConnectionPool._make_request\u001b[0;34m(self, conn, method, url, timeout, chunked, **httplib_request_kw)\u001b[0m\n\u001b[1;32m    462\u001b[0m             httplib_response \u001b[38;5;241m=\u001b[39m conn\u001b[38;5;241m.\u001b[39mgetresponse()\n\u001b[1;32m    463\u001b[0m         \u001b[38;5;28;01mexcept\u001b[39;00m \u001b[38;5;167;01mBaseException\u001b[39;00m \u001b[38;5;28;01mas\u001b[39;00m e:\n\u001b[1;32m    464\u001b[0m             \u001b[38;5;66;03m# Remove the TypeError from the exception chain in\u001b[39;00m\n\u001b[1;32m    465\u001b[0m             \u001b[38;5;66;03m# Python 3 (including for exceptions like SystemExit).\u001b[39;00m\n\u001b[1;32m    466\u001b[0m             \u001b[38;5;66;03m# Otherwise it looks like a bug in the code.\u001b[39;00m\n\u001b[0;32m--> 467\u001b[0m             \u001b[43msix\u001b[49m\u001b[38;5;241;43m.\u001b[39;49m\u001b[43mraise_from\u001b[49m\u001b[43m(\u001b[49m\u001b[43me\u001b[49m\u001b[43m,\u001b[49m\u001b[43m \u001b[49m\u001b[38;5;28;43;01mNone\u001b[39;49;00m\u001b[43m)\u001b[49m\n\u001b[1;32m    468\u001b[0m \u001b[38;5;28;01mexcept\u001b[39;00m (SocketTimeout, BaseSSLError, SocketError) \u001b[38;5;28;01mas\u001b[39;00m e:\n\u001b[1;32m    469\u001b[0m     \u001b[38;5;28mself\u001b[39m\u001b[38;5;241m.\u001b[39m_raise_timeout(err\u001b[38;5;241m=\u001b[39me, url\u001b[38;5;241m=\u001b[39murl, timeout_value\u001b[38;5;241m=\u001b[39mread_timeout)\n",
      "File \u001b[0;32m<string>:3\u001b[0m, in \u001b[0;36mraise_from\u001b[0;34m(value, from_value)\u001b[0m\n",
      "File \u001b[0;32m/ccs/proj/bip258/reeceneff/ptmpsi-env/lib/python3.11/site-packages/urllib3/connectionpool.py:462\u001b[0m, in \u001b[0;36mHTTPConnectionPool._make_request\u001b[0;34m(self, conn, method, url, timeout, chunked, **httplib_request_kw)\u001b[0m\n\u001b[1;32m    459\u001b[0m \u001b[38;5;28;01mexcept\u001b[39;00m \u001b[38;5;167;01mTypeError\u001b[39;00m:\n\u001b[1;32m    460\u001b[0m     \u001b[38;5;66;03m# Python 3\u001b[39;00m\n\u001b[1;32m    461\u001b[0m     \u001b[38;5;28;01mtry\u001b[39;00m:\n\u001b[0;32m--> 462\u001b[0m         httplib_response \u001b[38;5;241m=\u001b[39m \u001b[43mconn\u001b[49m\u001b[38;5;241;43m.\u001b[39;49m\u001b[43mgetresponse\u001b[49m\u001b[43m(\u001b[49m\u001b[43m)\u001b[49m\n\u001b[1;32m    463\u001b[0m     \u001b[38;5;28;01mexcept\u001b[39;00m \u001b[38;5;167;01mBaseException\u001b[39;00m \u001b[38;5;28;01mas\u001b[39;00m e:\n\u001b[1;32m    464\u001b[0m         \u001b[38;5;66;03m# Remove the TypeError from the exception chain in\u001b[39;00m\n\u001b[1;32m    465\u001b[0m         \u001b[38;5;66;03m# Python 3 (including for exceptions like SystemExit).\u001b[39;00m\n\u001b[1;32m    466\u001b[0m         \u001b[38;5;66;03m# Otherwise it looks like a bug in the code.\u001b[39;00m\n\u001b[1;32m    467\u001b[0m         six\u001b[38;5;241m.\u001b[39mraise_from(e, \u001b[38;5;28;01mNone\u001b[39;00m)\n",
      "File \u001b[0;32m/ccs/proj/bip258/reeceneff/ptmpsi-env/lib/python3.11/http/client.py:1395\u001b[0m, in \u001b[0;36mHTTPConnection.getresponse\u001b[0;34m(self)\u001b[0m\n\u001b[1;32m   1393\u001b[0m \u001b[38;5;28;01mtry\u001b[39;00m:\n\u001b[1;32m   1394\u001b[0m     \u001b[38;5;28;01mtry\u001b[39;00m:\n\u001b[0;32m-> 1395\u001b[0m         \u001b[43mresponse\u001b[49m\u001b[38;5;241;43m.\u001b[39;49m\u001b[43mbegin\u001b[49m\u001b[43m(\u001b[49m\u001b[43m)\u001b[49m\n\u001b[1;32m   1396\u001b[0m     \u001b[38;5;28;01mexcept\u001b[39;00m \u001b[38;5;167;01mConnectionError\u001b[39;00m:\n\u001b[1;32m   1397\u001b[0m         \u001b[38;5;28mself\u001b[39m\u001b[38;5;241m.\u001b[39mclose()\n",
      "File \u001b[0;32m/ccs/proj/bip258/reeceneff/ptmpsi-env/lib/python3.11/http/client.py:325\u001b[0m, in \u001b[0;36mHTTPResponse.begin\u001b[0;34m(self)\u001b[0m\n\u001b[1;32m    323\u001b[0m \u001b[38;5;66;03m# read until we get a non-100 response\u001b[39;00m\n\u001b[1;32m    324\u001b[0m \u001b[38;5;28;01mwhile\u001b[39;00m \u001b[38;5;28;01mTrue\u001b[39;00m:\n\u001b[0;32m--> 325\u001b[0m     version, status, reason \u001b[38;5;241m=\u001b[39m \u001b[38;5;28;43mself\u001b[39;49m\u001b[38;5;241;43m.\u001b[39;49m\u001b[43m_read_status\u001b[49m\u001b[43m(\u001b[49m\u001b[43m)\u001b[49m\n\u001b[1;32m    326\u001b[0m     \u001b[38;5;28;01mif\u001b[39;00m status \u001b[38;5;241m!=\u001b[39m CONTINUE:\n\u001b[1;32m    327\u001b[0m         \u001b[38;5;28;01mbreak\u001b[39;00m\n",
      "File \u001b[0;32m/ccs/proj/bip258/reeceneff/ptmpsi-env/lib/python3.11/http/client.py:286\u001b[0m, in \u001b[0;36mHTTPResponse._read_status\u001b[0;34m(self)\u001b[0m\n\u001b[1;32m    285\u001b[0m \u001b[38;5;28;01mdef\u001b[39;00m \u001b[38;5;21m_read_status\u001b[39m(\u001b[38;5;28mself\u001b[39m):\n\u001b[0;32m--> 286\u001b[0m     line \u001b[38;5;241m=\u001b[39m \u001b[38;5;28mstr\u001b[39m(\u001b[38;5;28;43mself\u001b[39;49m\u001b[38;5;241;43m.\u001b[39;49m\u001b[43mfp\u001b[49m\u001b[38;5;241;43m.\u001b[39;49m\u001b[43mreadline\u001b[49m\u001b[43m(\u001b[49m\u001b[43m_MAXLINE\u001b[49m\u001b[43m \u001b[49m\u001b[38;5;241;43m+\u001b[39;49m\u001b[43m \u001b[49m\u001b[38;5;241;43m1\u001b[39;49m\u001b[43m)\u001b[49m, \u001b[38;5;124m\"\u001b[39m\u001b[38;5;124miso-8859-1\u001b[39m\u001b[38;5;124m\"\u001b[39m)\n\u001b[1;32m    287\u001b[0m     \u001b[38;5;28;01mif\u001b[39;00m \u001b[38;5;28mlen\u001b[39m(line) \u001b[38;5;241m>\u001b[39m _MAXLINE:\n\u001b[1;32m    288\u001b[0m         \u001b[38;5;28;01mraise\u001b[39;00m LineTooLong(\u001b[38;5;124m\"\u001b[39m\u001b[38;5;124mstatus line\u001b[39m\u001b[38;5;124m\"\u001b[39m)\n",
      "File \u001b[0;32m/ccs/proj/bip258/reeceneff/ptmpsi-env/lib/python3.11/socket.py:706\u001b[0m, in \u001b[0;36mSocketIO.readinto\u001b[0;34m(self, b)\u001b[0m\n\u001b[1;32m    704\u001b[0m \u001b[38;5;28;01mwhile\u001b[39;00m \u001b[38;5;28;01mTrue\u001b[39;00m:\n\u001b[1;32m    705\u001b[0m     \u001b[38;5;28;01mtry\u001b[39;00m:\n\u001b[0;32m--> 706\u001b[0m         \u001b[38;5;28;01mreturn\u001b[39;00m \u001b[38;5;28;43mself\u001b[39;49m\u001b[38;5;241;43m.\u001b[39;49m\u001b[43m_sock\u001b[49m\u001b[38;5;241;43m.\u001b[39;49m\u001b[43mrecv_into\u001b[49m\u001b[43m(\u001b[49m\u001b[43mb\u001b[49m\u001b[43m)\u001b[49m\n\u001b[1;32m    707\u001b[0m     \u001b[38;5;28;01mexcept\u001b[39;00m timeout:\n\u001b[1;32m    708\u001b[0m         \u001b[38;5;28mself\u001b[39m\u001b[38;5;241m.\u001b[39m_timeout_occurred \u001b[38;5;241m=\u001b[39m \u001b[38;5;28;01mTrue\u001b[39;00m\n",
      "File \u001b[0;32m/ccs/proj/bip258/reeceneff/ptmpsi-env/lib/python3.11/ssl.py:1314\u001b[0m, in \u001b[0;36mSSLSocket.recv_into\u001b[0;34m(self, buffer, nbytes, flags)\u001b[0m\n\u001b[1;32m   1310\u001b[0m     \u001b[38;5;28;01mif\u001b[39;00m flags \u001b[38;5;241m!=\u001b[39m \u001b[38;5;241m0\u001b[39m:\n\u001b[1;32m   1311\u001b[0m         \u001b[38;5;28;01mraise\u001b[39;00m \u001b[38;5;167;01mValueError\u001b[39;00m(\n\u001b[1;32m   1312\u001b[0m           \u001b[38;5;124m\"\u001b[39m\u001b[38;5;124mnon-zero flags not allowed in calls to recv_into() on \u001b[39m\u001b[38;5;132;01m%s\u001b[39;00m\u001b[38;5;124m\"\u001b[39m \u001b[38;5;241m%\u001b[39m\n\u001b[1;32m   1313\u001b[0m           \u001b[38;5;28mself\u001b[39m\u001b[38;5;241m.\u001b[39m\u001b[38;5;18m__class__\u001b[39m)\n\u001b[0;32m-> 1314\u001b[0m     \u001b[38;5;28;01mreturn\u001b[39;00m \u001b[38;5;28;43mself\u001b[39;49m\u001b[38;5;241;43m.\u001b[39;49m\u001b[43mread\u001b[49m\u001b[43m(\u001b[49m\u001b[43mnbytes\u001b[49m\u001b[43m,\u001b[49m\u001b[43m \u001b[49m\u001b[43mbuffer\u001b[49m\u001b[43m)\u001b[49m\n\u001b[1;32m   1315\u001b[0m \u001b[38;5;28;01melse\u001b[39;00m:\n\u001b[1;32m   1316\u001b[0m     \u001b[38;5;28;01mreturn\u001b[39;00m \u001b[38;5;28msuper\u001b[39m()\u001b[38;5;241m.\u001b[39mrecv_into(buffer, nbytes, flags)\n",
      "File \u001b[0;32m/ccs/proj/bip258/reeceneff/ptmpsi-env/lib/python3.11/ssl.py:1166\u001b[0m, in \u001b[0;36mSSLSocket.read\u001b[0;34m(self, len, buffer)\u001b[0m\n\u001b[1;32m   1164\u001b[0m \u001b[38;5;28;01mtry\u001b[39;00m:\n\u001b[1;32m   1165\u001b[0m     \u001b[38;5;28;01mif\u001b[39;00m buffer \u001b[38;5;129;01mis\u001b[39;00m \u001b[38;5;129;01mnot\u001b[39;00m \u001b[38;5;28;01mNone\u001b[39;00m:\n\u001b[0;32m-> 1166\u001b[0m         \u001b[38;5;28;01mreturn\u001b[39;00m \u001b[38;5;28;43mself\u001b[39;49m\u001b[38;5;241;43m.\u001b[39;49m\u001b[43m_sslobj\u001b[49m\u001b[38;5;241;43m.\u001b[39;49m\u001b[43mread\u001b[49m\u001b[43m(\u001b[49m\u001b[38;5;28;43mlen\u001b[39;49m\u001b[43m,\u001b[49m\u001b[43m \u001b[49m\u001b[43mbuffer\u001b[49m\u001b[43m)\u001b[49m\n\u001b[1;32m   1167\u001b[0m     \u001b[38;5;28;01melse\u001b[39;00m:\n\u001b[1;32m   1168\u001b[0m         \u001b[38;5;28;01mreturn\u001b[39;00m \u001b[38;5;28mself\u001b[39m\u001b[38;5;241m.\u001b[39m_sslobj\u001b[38;5;241m.\u001b[39mread(\u001b[38;5;28mlen\u001b[39m)\n",
      "\u001b[0;31mKeyboardInterrupt\u001b[0m: "
     ]
    }
   ],
   "source": [
    "uniprot_pdb = Protein(uniprotid=\"G9BY57\")"
   ]
  },
  {
   "cell_type": "markdown",
   "id": "f96e9baf-da47-454d-b790-2cf2dfa4f5b0",
   "metadata": {},
   "source": [
    "## Build a chain from scratch\n",
    "Create an empty `Protein` object and use the `append` and `prepend` functions to add residues to a given polymer *chain*. The `phi`/`psi` amide torsions can be customized while using the `prepend`/`append` commands, respectively. The default values will produce torsion angles compatible with the alpha-helix conformation. "
   ]
  },
  {
   "cell_type": "code",
   "execution_count": null,
   "id": "695b77e8-8e4c-4b93-bdbd-307119885172",
   "metadata": {},
   "outputs": [],
   "source": [
    "chain = Protein()\n",
    "\n",
    "# Build a trimer of epsilon-amino caproic acid\n",
    "chain.prepend(chain=\"A\", residue=\"EAC\")\n",
    "chain.append(chain=\"A\", residue=\"EAC\", psi=120.0)\n",
    "chain.append(chain=\"A\", residue=\"EAC\", psi=120.0)\n",
    "\n",
    "# Cap the trimer to have neutral ends\n",
    "chain.prepend(chain=\"A\", residue=\"ACE\", phi=-120.0)\n",
    "chain.append(chain=\"A\", residue=\"NME\", psi=120.0)"
   ]
  },
  {
   "cell_type": "markdown",
   "id": "35161686-5a99-44c0-85f4-110d0d47fbd9",
   "metadata": {},
   "source": [
    "## Generate a Nylon-6 surface\n",
    "Use the `gen_pdb` function to create a PDB file of a finite cluster approximation of a Nylon-6 surface by specifying the number of unit cells to include along the `a`, `b`, and `c` directions. Two PDB files will be generated, one where all of the strands share the same *MODEL* parameter and another where each strand is its own *MODEL*. There is no difference among the models, but some visualization software packages might get confused with many strands in one *MODEL*."
   ]
  },
  {
   "cell_type": "code",
   "execution_count": null,
   "id": "ed5c7ab2-3c5d-4e1a-862a-67e571ec13e0",
   "metadata": {},
   "outputs": [
    {
     "ename": "TypeError",
     "evalue": "gen_pdb() got an unexpected keyword argument 'rangea'",
     "output_type": "error",
     "traceback": [
      "\u001b[0;31m---------------------------------------------------------------------------\u001b[0m",
      "\u001b[0;31mTypeError\u001b[0m                                 Traceback (most recent call last)",
      "Cell \u001b[0;32mIn[7], line 1\u001b[0m\n\u001b[0;32m----> 1\u001b[0m \u001b[43mgen_pdb\u001b[49m\u001b[43m(\u001b[49m\u001b[43mrangea\u001b[49m\u001b[38;5;241;43m=\u001b[39;49m\u001b[38;5;241;43m3\u001b[39;49m\u001b[43m,\u001b[49m\u001b[43m \u001b[49m\u001b[43mrangeb\u001b[49m\u001b[38;5;241;43m=\u001b[39;49m\u001b[38;5;241;43m3\u001b[39;49m\u001b[43m,\u001b[49m\u001b[43m \u001b[49m\u001b[43mrangec\u001b[49m\u001b[38;5;241;43m=\u001b[39;49m\u001b[38;5;241;43m3\u001b[39;49m\u001b[43m)\u001b[49m\n",
      "\u001b[0;31mTypeError\u001b[0m: gen_pdb() got an unexpected keyword argument 'rangea'"
     ]
    }
   ],
   "source": [
    "gen_pdb(rangea=3, rangeb=3, rangec=3)"
   ]
  },
  {
   "cell_type": "markdown",
   "id": "9b4bf925-7e1e-4e22-8856-ffc8782ccc9d",
   "metadata": {},
   "source": [
    "# Introducing point mutations"
   ]
  },
  {
   "cell_type": "markdown",
   "id": "f46ea8d7-ac05-4021-a120-43b675cc45fb",
   "metadata": {},
   "source": [
    "The `mutate` function of the `Protein` class can be used to introduce point mutations in a protein. For example, the active form of the ICCG variant of cutinase can be obtained by the following commands."
   ]
  },
  {
   "cell_type": "code",
   "execution_count": null,
   "id": "de557511-1c46-470c-83ba-4a0a68787ade",
   "metadata": {},
   "outputs": [
    {
     "name": "stdout",
     "output_type": "stream",
     "text": [
      "\t Downloading file from the Protein Databank\n"
     ]
    },
    {
     "ename": "KeyboardInterrupt",
     "evalue": "",
     "output_type": "error",
     "traceback": [
      "\u001b[0;31m---------------------------------------------------------------------------\u001b[0m",
      "\u001b[0;31mKeyboardInterrupt\u001b[0m                         Traceback (most recent call last)",
      "Cell \u001b[0;32mIn[11], line 1\u001b[0m\n\u001b[0;32m----> 1\u001b[0m cutinase \u001b[38;5;241m=\u001b[39m \u001b[43mProtein\u001b[49m\u001b[43m(\u001b[49m\u001b[43mpdbid\u001b[49m\u001b[38;5;241;43m=\u001b[39;49m\u001b[38;5;124;43m\"\u001b[39;49m\u001b[38;5;124;43m6tht\u001b[39;49m\u001b[38;5;124;43m\"\u001b[39;49m\u001b[43m)\u001b[49m\n\u001b[1;32m      2\u001b[0m cutinase\u001b[38;5;241m.\u001b[39mmutate(\u001b[38;5;124m\"\u001b[39m\u001b[38;5;124mA:ALA130\u001b[39m\u001b[38;5;124m\"\u001b[39m,\u001b[38;5;124m\"\u001b[39m\u001b[38;5;124mSER\u001b[39m\u001b[38;5;124m\"\u001b[39m)\n",
      "File \u001b[0;32m/autofs/nccs-svm1_proj/bip258/reeceneff/ptmpsi-env/PTMPSI/ptmpsi/protein/__init__.py:46\u001b[0m, in \u001b[0;36mProtein.__init__\u001b[0;34m(self, filename, pdbid, uniprotid, interactive, delwat, delhet)\u001b[0m\n\u001b[1;32m     44\u001b[0m \u001b[38;5;28;01mif\u001b[39;00m \u001b[38;5;28mself\u001b[39m\u001b[38;5;241m.\u001b[39mpdbid \u001b[38;5;129;01mis\u001b[39;00m \u001b[38;5;129;01mnot\u001b[39;00m \u001b[38;5;28;01mNone\u001b[39;00m:\n\u001b[1;32m     45\u001b[0m     \u001b[38;5;28mprint\u001b[39m(\u001b[38;5;124m\"\u001b[39m\u001b[38;5;130;01m\\t\u001b[39;00m\u001b[38;5;124m Downloading file from the Protein Databank\u001b[39m\u001b[38;5;124m\"\u001b[39m)\n\u001b[0;32m---> 46\u001b[0m     response \u001b[38;5;241m=\u001b[39m \u001b[43mrequests\u001b[49m\u001b[38;5;241;43m.\u001b[39;49m\u001b[43mget\u001b[49m\u001b[43m(\u001b[49m\u001b[38;5;124;43m\"\u001b[39;49m\u001b[38;5;124;43mhttps://files.rcsb.org/download/\u001b[39;49m\u001b[38;5;124;43m\"\u001b[39;49m\u001b[38;5;241;43m+\u001b[39;49m\u001b[38;5;28;43mself\u001b[39;49m\u001b[38;5;241;43m.\u001b[39;49m\u001b[43mpdbid\u001b[49m\u001b[38;5;241;43m.\u001b[39;49m\u001b[43mupper\u001b[49m\u001b[43m(\u001b[49m\u001b[43m)\u001b[49m\u001b[38;5;241;43m+\u001b[39;49m\u001b[38;5;124;43m\"\u001b[39;49m\u001b[38;5;124;43m.pdb\u001b[39;49m\u001b[38;5;124;43m\"\u001b[39;49m\u001b[43m)\u001b[49m\n\u001b[1;32m     47\u001b[0m     response\u001b[38;5;241m.\u001b[39mraise_for_status()\n\u001b[1;32m     48\u001b[0m     \u001b[38;5;28mself\u001b[39m\u001b[38;5;241m.\u001b[39mpdbfile \u001b[38;5;241m=\u001b[39m response\u001b[38;5;241m.\u001b[39mtext\u001b[38;5;241m.\u001b[39msplitlines()\n",
      "File \u001b[0;32m/ccs/proj/bip258/reeceneff/ptmpsi-env/lib/python3.11/site-packages/requests/api.py:73\u001b[0m, in \u001b[0;36mget\u001b[0;34m(url, params, **kwargs)\u001b[0m\n\u001b[1;32m     62\u001b[0m \u001b[38;5;28;01mdef\u001b[39;00m \u001b[38;5;21mget\u001b[39m(url, params\u001b[38;5;241m=\u001b[39m\u001b[38;5;28;01mNone\u001b[39;00m, \u001b[38;5;241m*\u001b[39m\u001b[38;5;241m*\u001b[39mkwargs):\n\u001b[1;32m     63\u001b[0m \u001b[38;5;250m    \u001b[39m\u001b[38;5;124mr\u001b[39m\u001b[38;5;124;03m\"\"\"Sends a GET request.\u001b[39;00m\n\u001b[1;32m     64\u001b[0m \n\u001b[1;32m     65\u001b[0m \u001b[38;5;124;03m    :param url: URL for the new :class:`Request` object.\u001b[39;00m\n\u001b[0;32m   (...)\u001b[0m\n\u001b[1;32m     70\u001b[0m \u001b[38;5;124;03m    :rtype: requests.Response\u001b[39;00m\n\u001b[1;32m     71\u001b[0m \u001b[38;5;124;03m    \"\"\"\u001b[39;00m\n\u001b[0;32m---> 73\u001b[0m     \u001b[38;5;28;01mreturn\u001b[39;00m \u001b[43mrequest\u001b[49m\u001b[43m(\u001b[49m\u001b[38;5;124;43m\"\u001b[39;49m\u001b[38;5;124;43mget\u001b[39;49m\u001b[38;5;124;43m\"\u001b[39;49m\u001b[43m,\u001b[49m\u001b[43m \u001b[49m\u001b[43murl\u001b[49m\u001b[43m,\u001b[49m\u001b[43m \u001b[49m\u001b[43mparams\u001b[49m\u001b[38;5;241;43m=\u001b[39;49m\u001b[43mparams\u001b[49m\u001b[43m,\u001b[49m\u001b[43m \u001b[49m\u001b[38;5;241;43m*\u001b[39;49m\u001b[38;5;241;43m*\u001b[39;49m\u001b[43mkwargs\u001b[49m\u001b[43m)\u001b[49m\n",
      "File \u001b[0;32m/ccs/proj/bip258/reeceneff/ptmpsi-env/lib/python3.11/site-packages/requests/api.py:59\u001b[0m, in \u001b[0;36mrequest\u001b[0;34m(method, url, **kwargs)\u001b[0m\n\u001b[1;32m     55\u001b[0m \u001b[38;5;66;03m# By using the 'with' statement we are sure the session is closed, thus we\u001b[39;00m\n\u001b[1;32m     56\u001b[0m \u001b[38;5;66;03m# avoid leaving sockets open which can trigger a ResourceWarning in some\u001b[39;00m\n\u001b[1;32m     57\u001b[0m \u001b[38;5;66;03m# cases, and look like a memory leak in others.\u001b[39;00m\n\u001b[1;32m     58\u001b[0m \u001b[38;5;28;01mwith\u001b[39;00m sessions\u001b[38;5;241m.\u001b[39mSession() \u001b[38;5;28;01mas\u001b[39;00m session:\n\u001b[0;32m---> 59\u001b[0m     \u001b[38;5;28;01mreturn\u001b[39;00m \u001b[43msession\u001b[49m\u001b[38;5;241;43m.\u001b[39;49m\u001b[43mrequest\u001b[49m\u001b[43m(\u001b[49m\u001b[43mmethod\u001b[49m\u001b[38;5;241;43m=\u001b[39;49m\u001b[43mmethod\u001b[49m\u001b[43m,\u001b[49m\u001b[43m \u001b[49m\u001b[43murl\u001b[49m\u001b[38;5;241;43m=\u001b[39;49m\u001b[43murl\u001b[49m\u001b[43m,\u001b[49m\u001b[43m \u001b[49m\u001b[38;5;241;43m*\u001b[39;49m\u001b[38;5;241;43m*\u001b[39;49m\u001b[43mkwargs\u001b[49m\u001b[43m)\u001b[49m\n",
      "File \u001b[0;32m/ccs/proj/bip258/reeceneff/ptmpsi-env/lib/python3.11/site-packages/requests/sessions.py:587\u001b[0m, in \u001b[0;36mSession.request\u001b[0;34m(self, method, url, params, data, headers, cookies, files, auth, timeout, allow_redirects, proxies, hooks, stream, verify, cert, json)\u001b[0m\n\u001b[1;32m    582\u001b[0m send_kwargs \u001b[38;5;241m=\u001b[39m {\n\u001b[1;32m    583\u001b[0m     \u001b[38;5;124m\"\u001b[39m\u001b[38;5;124mtimeout\u001b[39m\u001b[38;5;124m\"\u001b[39m: timeout,\n\u001b[1;32m    584\u001b[0m     \u001b[38;5;124m\"\u001b[39m\u001b[38;5;124mallow_redirects\u001b[39m\u001b[38;5;124m\"\u001b[39m: allow_redirects,\n\u001b[1;32m    585\u001b[0m }\n\u001b[1;32m    586\u001b[0m send_kwargs\u001b[38;5;241m.\u001b[39mupdate(settings)\n\u001b[0;32m--> 587\u001b[0m resp \u001b[38;5;241m=\u001b[39m \u001b[38;5;28;43mself\u001b[39;49m\u001b[38;5;241;43m.\u001b[39;49m\u001b[43msend\u001b[49m\u001b[43m(\u001b[49m\u001b[43mprep\u001b[49m\u001b[43m,\u001b[49m\u001b[43m \u001b[49m\u001b[38;5;241;43m*\u001b[39;49m\u001b[38;5;241;43m*\u001b[39;49m\u001b[43msend_kwargs\u001b[49m\u001b[43m)\u001b[49m\n\u001b[1;32m    589\u001b[0m \u001b[38;5;28;01mreturn\u001b[39;00m resp\n",
      "File \u001b[0;32m/ccs/proj/bip258/reeceneff/ptmpsi-env/lib/python3.11/site-packages/requests/sessions.py:701\u001b[0m, in \u001b[0;36mSession.send\u001b[0;34m(self, request, **kwargs)\u001b[0m\n\u001b[1;32m    698\u001b[0m start \u001b[38;5;241m=\u001b[39m preferred_clock()\n\u001b[1;32m    700\u001b[0m \u001b[38;5;66;03m# Send the request\u001b[39;00m\n\u001b[0;32m--> 701\u001b[0m r \u001b[38;5;241m=\u001b[39m \u001b[43madapter\u001b[49m\u001b[38;5;241;43m.\u001b[39;49m\u001b[43msend\u001b[49m\u001b[43m(\u001b[49m\u001b[43mrequest\u001b[49m\u001b[43m,\u001b[49m\u001b[43m \u001b[49m\u001b[38;5;241;43m*\u001b[39;49m\u001b[38;5;241;43m*\u001b[39;49m\u001b[43mkwargs\u001b[49m\u001b[43m)\u001b[49m\n\u001b[1;32m    703\u001b[0m \u001b[38;5;66;03m# Total elapsed time of the request (approximately)\u001b[39;00m\n\u001b[1;32m    704\u001b[0m elapsed \u001b[38;5;241m=\u001b[39m preferred_clock() \u001b[38;5;241m-\u001b[39m start\n",
      "File \u001b[0;32m/ccs/proj/bip258/reeceneff/ptmpsi-env/lib/python3.11/site-packages/requests/adapters.py:487\u001b[0m, in \u001b[0;36mHTTPAdapter.send\u001b[0;34m(self, request, stream, timeout, verify, cert, proxies)\u001b[0m\n\u001b[1;32m    484\u001b[0m     timeout \u001b[38;5;241m=\u001b[39m TimeoutSauce(connect\u001b[38;5;241m=\u001b[39mtimeout, read\u001b[38;5;241m=\u001b[39mtimeout)\n\u001b[1;32m    486\u001b[0m \u001b[38;5;28;01mtry\u001b[39;00m:\n\u001b[0;32m--> 487\u001b[0m     resp \u001b[38;5;241m=\u001b[39m \u001b[43mconn\u001b[49m\u001b[38;5;241;43m.\u001b[39;49m\u001b[43murlopen\u001b[49m\u001b[43m(\u001b[49m\n\u001b[1;32m    488\u001b[0m \u001b[43m        \u001b[49m\u001b[43mmethod\u001b[49m\u001b[38;5;241;43m=\u001b[39;49m\u001b[43mrequest\u001b[49m\u001b[38;5;241;43m.\u001b[39;49m\u001b[43mmethod\u001b[49m\u001b[43m,\u001b[49m\n\u001b[1;32m    489\u001b[0m \u001b[43m        \u001b[49m\u001b[43murl\u001b[49m\u001b[38;5;241;43m=\u001b[39;49m\u001b[43murl\u001b[49m\u001b[43m,\u001b[49m\n\u001b[1;32m    490\u001b[0m \u001b[43m        \u001b[49m\u001b[43mbody\u001b[49m\u001b[38;5;241;43m=\u001b[39;49m\u001b[43mrequest\u001b[49m\u001b[38;5;241;43m.\u001b[39;49m\u001b[43mbody\u001b[49m\u001b[43m,\u001b[49m\n\u001b[1;32m    491\u001b[0m \u001b[43m        \u001b[49m\u001b[43mheaders\u001b[49m\u001b[38;5;241;43m=\u001b[39;49m\u001b[43mrequest\u001b[49m\u001b[38;5;241;43m.\u001b[39;49m\u001b[43mheaders\u001b[49m\u001b[43m,\u001b[49m\n\u001b[1;32m    492\u001b[0m \u001b[43m        \u001b[49m\u001b[43mredirect\u001b[49m\u001b[38;5;241;43m=\u001b[39;49m\u001b[38;5;28;43;01mFalse\u001b[39;49;00m\u001b[43m,\u001b[49m\n\u001b[1;32m    493\u001b[0m \u001b[43m        \u001b[49m\u001b[43massert_same_host\u001b[49m\u001b[38;5;241;43m=\u001b[39;49m\u001b[38;5;28;43;01mFalse\u001b[39;49;00m\u001b[43m,\u001b[49m\n\u001b[1;32m    494\u001b[0m \u001b[43m        \u001b[49m\u001b[43mpreload_content\u001b[49m\u001b[38;5;241;43m=\u001b[39;49m\u001b[38;5;28;43;01mFalse\u001b[39;49;00m\u001b[43m,\u001b[49m\n\u001b[1;32m    495\u001b[0m \u001b[43m        \u001b[49m\u001b[43mdecode_content\u001b[49m\u001b[38;5;241;43m=\u001b[39;49m\u001b[38;5;28;43;01mFalse\u001b[39;49;00m\u001b[43m,\u001b[49m\n\u001b[1;32m    496\u001b[0m \u001b[43m        \u001b[49m\u001b[43mretries\u001b[49m\u001b[38;5;241;43m=\u001b[39;49m\u001b[38;5;28;43mself\u001b[39;49m\u001b[38;5;241;43m.\u001b[39;49m\u001b[43mmax_retries\u001b[49m\u001b[43m,\u001b[49m\n\u001b[1;32m    497\u001b[0m \u001b[43m        \u001b[49m\u001b[43mtimeout\u001b[49m\u001b[38;5;241;43m=\u001b[39;49m\u001b[43mtimeout\u001b[49m\u001b[43m,\u001b[49m\n\u001b[1;32m    498\u001b[0m \u001b[43m        \u001b[49m\u001b[43mchunked\u001b[49m\u001b[38;5;241;43m=\u001b[39;49m\u001b[43mchunked\u001b[49m\u001b[43m,\u001b[49m\n\u001b[1;32m    499\u001b[0m \u001b[43m    \u001b[49m\u001b[43m)\u001b[49m\n\u001b[1;32m    501\u001b[0m \u001b[38;5;28;01mexcept\u001b[39;00m (ProtocolError, \u001b[38;5;167;01mOSError\u001b[39;00m) \u001b[38;5;28;01mas\u001b[39;00m err:\n\u001b[1;32m    502\u001b[0m     \u001b[38;5;28;01mraise\u001b[39;00m \u001b[38;5;167;01mConnectionError\u001b[39;00m(err, request\u001b[38;5;241m=\u001b[39mrequest)\n",
      "File \u001b[0;32m/ccs/proj/bip258/reeceneff/ptmpsi-env/lib/python3.11/site-packages/urllib3/connectionpool.py:715\u001b[0m, in \u001b[0;36mHTTPConnectionPool.urlopen\u001b[0;34m(self, method, url, body, headers, retries, redirect, assert_same_host, timeout, pool_timeout, release_conn, chunked, body_pos, **response_kw)\u001b[0m\n\u001b[1;32m    712\u001b[0m     \u001b[38;5;28mself\u001b[39m\u001b[38;5;241m.\u001b[39m_prepare_proxy(conn)\n\u001b[1;32m    714\u001b[0m \u001b[38;5;66;03m# Make the request on the httplib connection object.\u001b[39;00m\n\u001b[0;32m--> 715\u001b[0m httplib_response \u001b[38;5;241m=\u001b[39m \u001b[38;5;28;43mself\u001b[39;49m\u001b[38;5;241;43m.\u001b[39;49m\u001b[43m_make_request\u001b[49m\u001b[43m(\u001b[49m\n\u001b[1;32m    716\u001b[0m \u001b[43m    \u001b[49m\u001b[43mconn\u001b[49m\u001b[43m,\u001b[49m\n\u001b[1;32m    717\u001b[0m \u001b[43m    \u001b[49m\u001b[43mmethod\u001b[49m\u001b[43m,\u001b[49m\n\u001b[1;32m    718\u001b[0m \u001b[43m    \u001b[49m\u001b[43murl\u001b[49m\u001b[43m,\u001b[49m\n\u001b[1;32m    719\u001b[0m \u001b[43m    \u001b[49m\u001b[43mtimeout\u001b[49m\u001b[38;5;241;43m=\u001b[39;49m\u001b[43mtimeout_obj\u001b[49m\u001b[43m,\u001b[49m\n\u001b[1;32m    720\u001b[0m \u001b[43m    \u001b[49m\u001b[43mbody\u001b[49m\u001b[38;5;241;43m=\u001b[39;49m\u001b[43mbody\u001b[49m\u001b[43m,\u001b[49m\n\u001b[1;32m    721\u001b[0m \u001b[43m    \u001b[49m\u001b[43mheaders\u001b[49m\u001b[38;5;241;43m=\u001b[39;49m\u001b[43mheaders\u001b[49m\u001b[43m,\u001b[49m\n\u001b[1;32m    722\u001b[0m \u001b[43m    \u001b[49m\u001b[43mchunked\u001b[49m\u001b[38;5;241;43m=\u001b[39;49m\u001b[43mchunked\u001b[49m\u001b[43m,\u001b[49m\n\u001b[1;32m    723\u001b[0m \u001b[43m\u001b[49m\u001b[43m)\u001b[49m\n\u001b[1;32m    725\u001b[0m \u001b[38;5;66;03m# If we're going to release the connection in ``finally:``, then\u001b[39;00m\n\u001b[1;32m    726\u001b[0m \u001b[38;5;66;03m# the response doesn't need to know about the connection. Otherwise\u001b[39;00m\n\u001b[1;32m    727\u001b[0m \u001b[38;5;66;03m# it will also try to release it and we'll have a double-release\u001b[39;00m\n\u001b[1;32m    728\u001b[0m \u001b[38;5;66;03m# mess.\u001b[39;00m\n\u001b[1;32m    729\u001b[0m response_conn \u001b[38;5;241m=\u001b[39m conn \u001b[38;5;28;01mif\u001b[39;00m \u001b[38;5;129;01mnot\u001b[39;00m release_conn \u001b[38;5;28;01melse\u001b[39;00m \u001b[38;5;28;01mNone\u001b[39;00m\n",
      "File \u001b[0;32m/ccs/proj/bip258/reeceneff/ptmpsi-env/lib/python3.11/site-packages/urllib3/connectionpool.py:404\u001b[0m, in \u001b[0;36mHTTPConnectionPool._make_request\u001b[0;34m(self, conn, method, url, timeout, chunked, **httplib_request_kw)\u001b[0m\n\u001b[1;32m    402\u001b[0m \u001b[38;5;66;03m# Trigger any extra validation we need to do.\u001b[39;00m\n\u001b[1;32m    403\u001b[0m \u001b[38;5;28;01mtry\u001b[39;00m:\n\u001b[0;32m--> 404\u001b[0m     \u001b[38;5;28;43mself\u001b[39;49m\u001b[38;5;241;43m.\u001b[39;49m\u001b[43m_validate_conn\u001b[49m\u001b[43m(\u001b[49m\u001b[43mconn\u001b[49m\u001b[43m)\u001b[49m\n\u001b[1;32m    405\u001b[0m \u001b[38;5;28;01mexcept\u001b[39;00m (SocketTimeout, BaseSSLError) \u001b[38;5;28;01mas\u001b[39;00m e:\n\u001b[1;32m    406\u001b[0m     \u001b[38;5;66;03m# Py2 raises this as a BaseSSLError, Py3 raises it as socket timeout.\u001b[39;00m\n\u001b[1;32m    407\u001b[0m     \u001b[38;5;28mself\u001b[39m\u001b[38;5;241m.\u001b[39m_raise_timeout(err\u001b[38;5;241m=\u001b[39me, url\u001b[38;5;241m=\u001b[39murl, timeout_value\u001b[38;5;241m=\u001b[39mconn\u001b[38;5;241m.\u001b[39mtimeout)\n",
      "File \u001b[0;32m/ccs/proj/bip258/reeceneff/ptmpsi-env/lib/python3.11/site-packages/urllib3/connectionpool.py:1060\u001b[0m, in \u001b[0;36mHTTPSConnectionPool._validate_conn\u001b[0;34m(self, conn)\u001b[0m\n\u001b[1;32m   1058\u001b[0m \u001b[38;5;66;03m# Force connect early to allow us to validate the connection.\u001b[39;00m\n\u001b[1;32m   1059\u001b[0m \u001b[38;5;28;01mif\u001b[39;00m \u001b[38;5;129;01mnot\u001b[39;00m \u001b[38;5;28mgetattr\u001b[39m(conn, \u001b[38;5;124m\"\u001b[39m\u001b[38;5;124msock\u001b[39m\u001b[38;5;124m\"\u001b[39m, \u001b[38;5;28;01mNone\u001b[39;00m):  \u001b[38;5;66;03m# AppEngine might not have  `.sock`\u001b[39;00m\n\u001b[0;32m-> 1060\u001b[0m     \u001b[43mconn\u001b[49m\u001b[38;5;241;43m.\u001b[39;49m\u001b[43mconnect\u001b[49m\u001b[43m(\u001b[49m\u001b[43m)\u001b[49m\n\u001b[1;32m   1062\u001b[0m \u001b[38;5;28;01mif\u001b[39;00m \u001b[38;5;129;01mnot\u001b[39;00m conn\u001b[38;5;241m.\u001b[39mis_verified:\n\u001b[1;32m   1063\u001b[0m     warnings\u001b[38;5;241m.\u001b[39mwarn(\n\u001b[1;32m   1064\u001b[0m         (\n\u001b[1;32m   1065\u001b[0m             \u001b[38;5;124m\"\u001b[39m\u001b[38;5;124mUnverified HTTPS request is being made to host \u001b[39m\u001b[38;5;124m'\u001b[39m\u001b[38;5;132;01m%s\u001b[39;00m\u001b[38;5;124m'\u001b[39m\u001b[38;5;124m. \u001b[39m\u001b[38;5;124m\"\u001b[39m\n\u001b[0;32m   (...)\u001b[0m\n\u001b[1;32m   1070\u001b[0m         InsecureRequestWarning,\n\u001b[1;32m   1071\u001b[0m     )\n",
      "File \u001b[0;32m/ccs/proj/bip258/reeceneff/ptmpsi-env/lib/python3.11/site-packages/urllib3/connection.py:363\u001b[0m, in \u001b[0;36mHTTPSConnection.connect\u001b[0;34m(self)\u001b[0m\n\u001b[1;32m    361\u001b[0m \u001b[38;5;28;01mdef\u001b[39;00m \u001b[38;5;21mconnect\u001b[39m(\u001b[38;5;28mself\u001b[39m):\n\u001b[1;32m    362\u001b[0m     \u001b[38;5;66;03m# Add certificate verification\u001b[39;00m\n\u001b[0;32m--> 363\u001b[0m     \u001b[38;5;28mself\u001b[39m\u001b[38;5;241m.\u001b[39msock \u001b[38;5;241m=\u001b[39m conn \u001b[38;5;241m=\u001b[39m \u001b[38;5;28;43mself\u001b[39;49m\u001b[38;5;241;43m.\u001b[39;49m\u001b[43m_new_conn\u001b[49m\u001b[43m(\u001b[49m\u001b[43m)\u001b[49m\n\u001b[1;32m    364\u001b[0m     hostname \u001b[38;5;241m=\u001b[39m \u001b[38;5;28mself\u001b[39m\u001b[38;5;241m.\u001b[39mhost\n\u001b[1;32m    365\u001b[0m     tls_in_tls \u001b[38;5;241m=\u001b[39m \u001b[38;5;28;01mFalse\u001b[39;00m\n",
      "File \u001b[0;32m/ccs/proj/bip258/reeceneff/ptmpsi-env/lib/python3.11/site-packages/urllib3/connection.py:174\u001b[0m, in \u001b[0;36mHTTPConnection._new_conn\u001b[0;34m(self)\u001b[0m\n\u001b[1;32m    171\u001b[0m     extra_kw[\u001b[38;5;124m\"\u001b[39m\u001b[38;5;124msocket_options\u001b[39m\u001b[38;5;124m\"\u001b[39m] \u001b[38;5;241m=\u001b[39m \u001b[38;5;28mself\u001b[39m\u001b[38;5;241m.\u001b[39msocket_options\n\u001b[1;32m    173\u001b[0m \u001b[38;5;28;01mtry\u001b[39;00m:\n\u001b[0;32m--> 174\u001b[0m     conn \u001b[38;5;241m=\u001b[39m \u001b[43mconnection\u001b[49m\u001b[38;5;241;43m.\u001b[39;49m\u001b[43mcreate_connection\u001b[49m\u001b[43m(\u001b[49m\n\u001b[1;32m    175\u001b[0m \u001b[43m        \u001b[49m\u001b[43m(\u001b[49m\u001b[38;5;28;43mself\u001b[39;49m\u001b[38;5;241;43m.\u001b[39;49m\u001b[43m_dns_host\u001b[49m\u001b[43m,\u001b[49m\u001b[43m \u001b[49m\u001b[38;5;28;43mself\u001b[39;49m\u001b[38;5;241;43m.\u001b[39;49m\u001b[43mport\u001b[49m\u001b[43m)\u001b[49m\u001b[43m,\u001b[49m\u001b[43m \u001b[49m\u001b[38;5;28;43mself\u001b[39;49m\u001b[38;5;241;43m.\u001b[39;49m\u001b[43mtimeout\u001b[49m\u001b[43m,\u001b[49m\u001b[43m \u001b[49m\u001b[38;5;241;43m*\u001b[39;49m\u001b[38;5;241;43m*\u001b[39;49m\u001b[43mextra_kw\u001b[49m\n\u001b[1;32m    176\u001b[0m \u001b[43m    \u001b[49m\u001b[43m)\u001b[49m\n\u001b[1;32m    178\u001b[0m \u001b[38;5;28;01mexcept\u001b[39;00m SocketTimeout:\n\u001b[1;32m    179\u001b[0m     \u001b[38;5;28;01mraise\u001b[39;00m ConnectTimeoutError(\n\u001b[1;32m    180\u001b[0m         \u001b[38;5;28mself\u001b[39m,\n\u001b[1;32m    181\u001b[0m         \u001b[38;5;124m\"\u001b[39m\u001b[38;5;124mConnection to \u001b[39m\u001b[38;5;132;01m%s\u001b[39;00m\u001b[38;5;124m timed out. (connect timeout=\u001b[39m\u001b[38;5;132;01m%s\u001b[39;00m\u001b[38;5;124m)\u001b[39m\u001b[38;5;124m\"\u001b[39m\n\u001b[1;32m    182\u001b[0m         \u001b[38;5;241m%\u001b[39m (\u001b[38;5;28mself\u001b[39m\u001b[38;5;241m.\u001b[39mhost, \u001b[38;5;28mself\u001b[39m\u001b[38;5;241m.\u001b[39mtimeout),\n\u001b[1;32m    183\u001b[0m     )\n",
      "File \u001b[0;32m/ccs/proj/bip258/reeceneff/ptmpsi-env/lib/python3.11/site-packages/urllib3/util/connection.py:85\u001b[0m, in \u001b[0;36mcreate_connection\u001b[0;34m(address, timeout, source_address, socket_options)\u001b[0m\n\u001b[1;32m     83\u001b[0m     \u001b[38;5;28;01mif\u001b[39;00m source_address:\n\u001b[1;32m     84\u001b[0m         sock\u001b[38;5;241m.\u001b[39mbind(source_address)\n\u001b[0;32m---> 85\u001b[0m     \u001b[43msock\u001b[49m\u001b[38;5;241;43m.\u001b[39;49m\u001b[43mconnect\u001b[49m\u001b[43m(\u001b[49m\u001b[43msa\u001b[49m\u001b[43m)\u001b[49m\n\u001b[1;32m     86\u001b[0m     \u001b[38;5;28;01mreturn\u001b[39;00m sock\n\u001b[1;32m     88\u001b[0m \u001b[38;5;28;01mexcept\u001b[39;00m socket\u001b[38;5;241m.\u001b[39merror \u001b[38;5;28;01mas\u001b[39;00m e:\n",
      "\u001b[0;31mKeyboardInterrupt\u001b[0m: "
     ]
    }
   ],
   "source": [
    "cutinase = Protein(pdbid=\"6tht\")\n",
    "cutinase.mutate(\"A:ALA130\",\"SER\")"
   ]
  },
  {
   "cell_type": "markdown",
   "id": "d35c3652-c096-4b13-a05d-05a7f749eb7c",
   "metadata": {},
   "source": [
    "The residue to be mutated can be specified with the nomenclature \"\\[chain\\]:\\[name\\]\\[number\\]\", where \\[chain\\] is the one-letter chain identifier, \\[name\\] is the three-letter aminoacid name, and \\[number\\] is the residue number. The \\[name\\] can be omitted."
   ]
  },
  {
   "cell_type": "markdown",
   "id": "a1c7ef00-d957-4985-961a-2b13ce396047",
   "metadata": {},
   "source": [
    "# Obtaining AMBER99 parameters for a residue"
   ]
  },
  {
   "cell_type": "markdown",
   "id": "f822af3f-4f19-4501-89e5-a795d86bcca7",
   "metadata": {},
   "source": [
    "The `get_qm_data` function will produce a series of `NWChem` input files that will generate `RESP` charges and bonded force constants according to the `AMBER99` forcefield recipe. The current output is obtained in `STDOUT` and the force constants are given in a format that can be copied directly into a `GROMACS` forcefield definition.\n",
    "\n",
    "By default, `get_qm_data` will generate two conformations for the new residue capped by an `ACE` and `NME` groups. The `RESP` fitting for both conformers will be performed simultaneously and only one set of charges will be computed. Bond and angle force constants parameters will be generated **separately** and the user must average these values in order to obtain a single constant for each bond or angle.\n",
    "\n",
    "When needed, torsion potentials are fitted for both conformations at the same time."
   ]
  },
  {
   "cell_type": "code",
   "execution_count": 2,
   "id": "7e33569b-10ae-4bf2-b7f9-770fc1e779f5",
   "metadata": {},
   "outputs": [],
   "source": [
    "eac = Protein()\n",
    "eac.prepend(chain=\"A\", residue=\"EAC\")\n",
    "get_qm_data(eac, machine='frontier', account='bip258')\n"
   ]
  },
  {
   "cell_type": "markdown",
   "id": "32e0920d-66fc-408f-9d40-1fa38aa71d7d",
   "metadata": {},
   "source": [
    "Some NWChem input options can be changed via keyword arguments. These options, along with their default values, are:"
   ]
  },
  {
   "cell_type": "markdown",
   "id": "2316f998-92fe-45da-a8c4-c13056f760ac",
   "metadata": {},
   "source": [
    "```\n",
    "mult    = kwargs.get(\"mult\",1)\n",
    "charge  = kwargs.get(\"charge\",0)\n",
    "memory  = kwargs.get(\"memory\",2000)\n",
    "aobasis = kwargs.get(\"aobasis\",\"def2-tzvp\")\n",
    "tdbasis = kwargs.get(\"tdbasis\",\"def2-svp\")\n",
    "cdbasis = kwargs.get(\"cdbasis\",\"def2-universal-jfit\")\n",
    "xcfun   = kwargs.get(\"xcfun\",\"r2scan\")\n",
    "grid    = kwargs.get(\"grid\",\"lebedev 120 14\")\n",
    "tdgrid  = kwargs.get(\"tdgrid\",\"lebedev 100 14\")\n",
    "nscf    = kwargs.get(\"nscf\",100)\n",
    "nopt    = kwargs.get(\"nopt\",60)\n",
    "disp    = kwargs.get(\"disp\",\"disp vdw 4\")\n",
    "delta   = kwargs.get(\"delta\",0.0189)\n",
    "lshift  = kwargs.get(\"lshift\",0.1)\n",
    "```"
   ]
  },
  {
   "cell_type": "markdown",
   "id": "087dffb4-270f-4afe-9043-b53b0920a92f",
   "metadata": {},
   "source": [
    "# Post-translational modifications"
   ]
  },
  {
   "cell_type": "markdown",
   "id": "58c66bba-fd12-48a8-8719-4d4e58165b98",
   "metadata": {},
   "source": [
    "Post-translational modifications can be introduced by using the `modify` function of the `Protein` class. The following is a list of available CYS post-translational modifications\n",
    " - nitrosylation\n",
    " - sulfenylation\n",
    " - sulfynilation\n",
    " - sulfonylation\n",
    " - sulfhydration\n",
    " - glutathionylation\n",
    " - cysteinylation\n",
    " - methylation\n",
    " - carbamoylation\n",
    " - cyanylation\n",
    "\n",
    "The following post-translational modifications are also available for a subset of aminoacids\n",
    " - acetylation\n",
    "     - LYS, LYN\n",
    " - methylation:\n",
    "     - GLU, GLH\n",
    "     - LYS, LYN\n",
    "     - ARG\n",
    "     - HIS, HIP, HID, HIE\n",
    " - dimethylation:\n",
    "     - LYS, LYN, ARG\n",
    " - trimethylation:\n",
    "     - LYS, LYN\n",
    " - symmetric dimethylation:\n",
    "     - ARG\n",
    " - asymmetric dimethylation:\n",
    "     - ARG        \n",
    " - phosphorylation:\n",
    "     - SER\n",
    "     - THR\n",
    "     - TYR\n",
    "     - ARG\n",
    "     - HIS, HIP, HID, HIE\n",
    "     - LYS, LYN\n",
    "     - ASP, ASH\n",
    "     - CYS, CYM"
   ]
  },
  {
   "cell_type": "code",
   "execution_count": null,
   "id": "42aa2024-c858-4506-a4ee-ba47a60dd569",
   "metadata": {},
   "outputs": [
    {
     "name": "stdout",
     "output_type": "stream",
     "text": [
      "nitrosylation SNC\n",
      "\n",
      "\t Found rotamer with no clashes!\n"
     ]
    }
   ],
   "source": [
    "snc = Protein()\n",
    "snc.prepend(chain=\"A\", residue=\"CYS\")\n",
    "snc.modify(\"A:CYS1\", \"nitrosylation\")"
   ]
  },
  {
   "cell_type": "markdown",
   "id": "04eee9fe-de67-422e-83ed-a4d41342fc6b",
   "metadata": {},
   "source": [
    "# Docking"
   ]
  },
  {
   "cell_type": "markdown",
   "id": "e7750b05-f02d-4b0f-9dfd-46f64224f1b0",
   "metadata": {},
   "source": [
    "PTM-Psi relies on existing installations of AutoDock Vina and the AutoDock Tools packages. PTM-Psi will not attempt to fetch these packages. "
   ]
  },
  {
   "cell_type": "code",
   "execution_count": 2,
   "id": "331a081b-b31d-4a45-ad75-2d3a404205bb",
   "metadata": {},
   "outputs": [
    {
     "name": "stdout",
     "output_type": "stream",
     "text": [
      "\t Downloading file from the Protein Databank\n",
      "\t Warning: Atom CA of residue MET91 has alternate locations\n",
      "\t\t Selecting location 'A' with occupancy   0.58\n",
      "\t Warning: Atom CB of residue MET91 has alternate locations\n",
      "\t\t Selecting location 'A' with occupancy   0.58\n",
      "\t Warning: Atom CG of residue MET91 has alternate locations\n",
      "\t\t Selecting location 'A' with occupancy   0.58\n",
      "\t Warning: Atom SD of residue MET91 has alternate locations\n",
      "\t\t Selecting location 'A' with occupancy   0.58\n",
      "\t Warning: Atom CE of residue MET91 has alternate locations\n",
      "\t\t Selecting location 'A' with occupancy   0.58\n",
      "\t Warning: Atom CA of residue SER133 has alternate locations\n",
      "\t\t Selecting location 'A' with occupancy   0.57\n",
      "\t Warning: Atom CB of residue SER133 has alternate locations\n",
      "\t\t Selecting location 'A' with occupancy   0.57\n",
      "\t Warning: Atom OG of residue SER133 has alternate locations\n",
      "\t\t Selecting location 'A' with occupancy   0.57\n",
      "\t Warning: Atom CA of residue SER136 has alternate locations\n",
      "\t\t Selecting location 'B' with occupancy   0.63\n",
      "\t Warning: Atom CB of residue SER136 has alternate locations\n",
      "\t\t Selecting location 'B' with occupancy   0.63\n",
      "\t Warning: Atom OG of residue SER136 has alternate locations\n",
      "\t\t Selecting location 'A' with occupancy   0.63\n",
      "\t Warning: Atom CA of residue ASN140 has alternate locations\n",
      "\t\t Selecting location 'A' with occupancy   0.60\n",
      "\t Warning: Atom CB of residue ASN140 has alternate locations\n",
      "\t\t Selecting location 'A' with occupancy   0.60\n",
      "\t Warning: Atom CG of residue ASN140 has alternate locations\n",
      "\t\t Selecting location 'A' with occupancy   0.60\n",
      "\t Warning: Atom OD1 of residue ASN140 has alternate locations\n",
      "\t\t Selecting location 'A' with occupancy   0.60\n",
      "\t Warning: Atom ND2 of residue ASN140 has alternate locations\n",
      "\t\t Selecting location 'A' with occupancy   0.60\n",
      "\t Warning: Atom CA of residue SER228 has alternate locations\n",
      "\t\t Selecting location 'B' with occupancy   0.60\n",
      "\t Warning: Atom CB of residue SER228 has alternate locations\n",
      "\t\t Selecting location 'B' with occupancy   0.60\n",
      "\t Warning: Atom OG of residue SER228 has alternate locations\n",
      "\t\t Selecting location 'A' with occupancy   0.60\n",
      "\t Warning: Atom CA of residue CYS238 has alternate locations\n",
      "\t\t Selecting location 'A' with occupancy   0.60\n",
      "\t Warning: Atom CB of residue CYS238 has alternate locations\n",
      "\t\t Selecting location 'A' with occupancy   0.60\n",
      "\t Warning: Atom SG of residue CYS238 has alternate locations\n",
      "\t\t Selecting location 'A' with occupancy   0.60\n",
      "\t Warning: Atom CA of residue SER241 has alternate locations\n",
      "\t\t Selecting location 'A' with occupancy   0.50\n",
      "\t Warning: Atom CB of residue SER241 has alternate locations\n",
      "\t\t Selecting location 'A' with occupancy   0.50\n",
      "\t Warning: Atom OG of residue SER241 has alternate locations\n",
      "\t\t Selecting location 'A' with occupancy   0.50\n",
      "\t Warning: Atom CA of residue CYS283 has alternate locations\n",
      "\t\t Selecting location 'A' with occupancy   0.60\n",
      "\t Warning: Atom CB of residue CYS283 has alternate locations\n",
      "\t\t Selecting location 'A' with occupancy   0.60\n",
      "\t Warning: Atom SG of residue CYS283 has alternate locations\n",
      "\t\t Selecting location 'A' with occupancy   0.60\n",
      "\n",
      "\t Found rotamer with no clashes!\n"
     ]
    },
    {
     "ename": "NameError",
     "evalue": "name 'MyDockingError' is not defined",
     "output_type": "error",
     "traceback": [
      "\u001b[0;31m---------------------------------------------------------------------------\u001b[0m",
      "\u001b[0;31mNameError\u001b[0m                                 Traceback (most recent call last)",
      "Cell \u001b[0;32mIn[2], line 11\u001b[0m\n\u001b[1;32m      9\u001b[0m nylon6\u001b[38;5;241m.\u001b[39mappend(\u001b[38;5;124m\"\u001b[39m\u001b[38;5;124mA\u001b[39m\u001b[38;5;124m\"\u001b[39m, \u001b[38;5;124m\"\u001b[39m\u001b[38;5;124mNME\u001b[39m\u001b[38;5;124m\"\u001b[39m)\n\u001b[1;32m     10\u001b[0m nylon6\u001b[38;5;241m.\u001b[39mwrite_xyz(\u001b[38;5;124m\"\u001b[39m\u001b[38;5;124mnylon6.xyz\u001b[39m\u001b[38;5;124m\"\u001b[39m)\n\u001b[0;32m---> 11\u001b[0m \u001b[43mcutinase\u001b[49m\u001b[38;5;241;43m.\u001b[39;49m\u001b[43mdock\u001b[49m\u001b[43m(\u001b[49m\u001b[43mligand\u001b[49m\u001b[38;5;241;43m=\u001b[39;49m\u001b[38;5;124;43m\"\u001b[39;49m\u001b[38;5;124;43mnylon6.xyz\u001b[39;49m\u001b[38;5;124;43m\"\u001b[39;49m\u001b[43m,\u001b[49m\u001b[43m \u001b[49m\u001b[43mreceptor\u001b[49m\u001b[38;5;241;43m=\u001b[39;49m\u001b[38;5;124;43m\"\u001b[39;49m\u001b[38;5;124;43mcutinase.pdb\u001b[39;49m\u001b[38;5;124;43m\"\u001b[39;49m\u001b[43m,\u001b[49m\u001b[43m \u001b[49m\u001b[43mboxcenter\u001b[49m\u001b[38;5;241;43m=\u001b[39;49m\u001b[38;5;124;43m\"\u001b[39;49m\u001b[38;5;124;43mA:SER130\u001b[39;49m\u001b[38;5;124;43m\"\u001b[39;49m\u001b[43m,\u001b[49m\u001b[43m \u001b[49m\u001b[43mboxsize\u001b[49m\u001b[38;5;241;43m=\u001b[39;49m\u001b[38;5;241;43m20.0\u001b[39;49m\u001b[43m)\u001b[49m\n",
      "File \u001b[0;32m/autofs/nccs-svm1_proj/bip258/reeceneff/ptmpsi-env/PTMPSI/ptmpsi/protein/__init__.py:407\u001b[0m, in \u001b[0;36mProtein.dock\u001b[0;34m(self, ligand, receptor, boxcenter, boxsize, output, flexible, engine, exhaustiveness)\u001b[0m\n\u001b[1;32m    405\u001b[0m     \u001b[38;5;28mself\u001b[39m\u001b[38;5;241m.\u001b[39mdocking\u001b[38;5;241m.\u001b[39mexhaustiveness \u001b[38;5;241m=\u001b[39m exhaustiveness\n\u001b[1;32m    406\u001b[0m \u001b[38;5;28;01melse\u001b[39;00m:\n\u001b[0;32m--> 407\u001b[0m     \u001b[38;5;28;01mraise\u001b[39;00m \u001b[43mMyDockingError\u001b[49m(\u001b[38;5;124m\"\u001b[39m\u001b[38;5;124mExhaustiveness should be an integer value\u001b[39m\u001b[38;5;124m\"\u001b[39m)\n\u001b[1;32m    409\u001b[0m \u001b[38;5;28;01mif\u001b[39;00m output \u001b[38;5;129;01mis\u001b[39;00m \u001b[38;5;28;01mNone\u001b[39;00m:\n\u001b[1;32m    410\u001b[0m     \u001b[38;5;28;01mif\u001b[39;00m \u001b[38;5;28mself\u001b[39m\u001b[38;5;241m.\u001b[39mdocking\u001b[38;5;241m.\u001b[39mengine \u001b[38;5;241m==\u001b[39m \u001b[38;5;124m'\u001b[39m\u001b[38;5;124mvina\u001b[39m\u001b[38;5;124m'\u001b[39m:\n",
      "\u001b[0;31mNameError\u001b[0m: name 'MyDockingError' is not defined"
     ]
    }
   ],
   "source": [
    "cutinase = Protein(pdbid=\"6tht\")\n",
    "cutinase.mutate(\"A:ALA130\",\"SER\")\n",
    "cutinase.write_pdb(\"cutinase.pdb\")\n",
    "\n",
    "nylon6 = Protein()\n",
    "nylon6.prepend(\"A\", \"EAC\")\n",
    "nylon6.prepend(\"A\", \"ACE\")\n",
    "nylon6.append(\"A\", \"EAC\")\n",
    "nylon6.append(\"A\", \"NME\")\n",
    "nylon6.write_xyz(\"nylon6.xyz\")\n",
    "cutinase.dock(ligand=\"nylon6.xyz\", receptor=\"cutinase.pdb\", boxcenter=\"A:SER130\", boxsize=20.0, exhaustiveness=64)"
   ]
  },
  {
   "cell_type": "markdown",
   "id": "41a87abc-1274-4ed1-9f6b-edeeec6aeccb",
   "metadata": {},
   "source": [
    "# NWChem QM/MM input generation"
   ]
  },
  {
   "cell_type": "code",
   "execution_count": null,
   "id": "2a6f895a-9a29-4108-b443-8f07587f87e5",
   "metadata": {},
   "outputs": [],
   "source": []
  },
  {
   "cell_type": "markdown",
   "id": "1ab615c1-6f7c-4765-9634-e112e297c118",
   "metadata": {},
   "source": [
    "# Generate post-translational modification combinations"
   ]
  },
  {
   "cell_type": "markdown",
   "id": "cfb3a8bc-1558-4bbf-877d-c6cd1b50d6c3",
   "metadata": {},
   "source": [
    "- Load the GAP2/CP12/PRK complex"
   ]
  },
  {
   "cell_type": "code",
   "execution_count": 5,
   "id": "e4bf3b98-df64-4b08-84b1-a7e85bfc2ab5",
   "metadata": {},
   "outputs": [
    {
     "name": "stdout",
     "output_type": "stream",
     "text": [
      "\t Reading local PDB file\n"
     ]
    }
   ],
   "source": [
    "# protein = Protein(pdbid=\"6gve\")\n",
    "protein = Protein(filename=\"6gve.pdb\")"
   ]
  },
  {
   "cell_type": "markdown",
   "id": "2c2e8292-33bf-4a74-aca8-c34615de37e4",
   "metadata": {},
   "source": [
    "- Find all cysteine residues"
   ]
  },
  {
   "cell_type": "code",
   "execution_count": 6,
   "id": "f20ac6bb-7052-425d-a346-95fd6c13de1c",
   "metadata": {},
   "outputs": [
    {
     "name": "stdout",
     "output_type": "stream",
     "text": [
      "D:CYS19\n",
      "D:CYS67\n",
      "D:CYS77\n",
      "D:CYS154\n",
      "D:CYS158\n",
      "A:CYS19\n",
      "A:CYS67\n",
      "A:CYS77\n",
      "A:CYS154\n",
      "A:CYS158\n",
      "E:CYS19\n",
      "E:CYS67\n",
      "E:CYS77\n",
      "E:CYS154\n",
      "E:CYS158\n",
      "F:CYS19\n",
      "F:CYS67\n",
      "F:CYS77\n",
      "F:CYS154\n",
      "F:CYS158\n",
      "I:CYS19\n",
      "I:CYS67\n",
      "I:CYS77\n",
      "I:CYS154\n",
      "I:CYS158\n",
      "K:CYS19\n",
      "K:CYS67\n",
      "K:CYS77\n",
      "K:CYS154\n",
      "K:CYS158\n",
      "N:CYS19\n",
      "N:CYS67\n",
      "N:CYS77\n",
      "N:CYS154\n",
      "N:CYS158\n",
      "O:CYS19\n",
      "O:CYS67\n",
      "O:CYS77\n",
      "O:CYS154\n",
      "O:CYS158\n"
     ]
    }
   ],
   "source": [
    "protein.findresidue(\"CYS\")"
   ]
  },
  {
   "cell_type": "markdown",
   "id": "67c5ea87-bbc4-4957-881a-999de9050654",
   "metadata": {},
   "source": [
    "- Generate all posible single combinations (ntuple=1) for nitrosylation and sulfhydration"
   ]
  },
  {
   "cell_type": "code",
   "execution_count": 7,
   "id": "a6390670-1a75-44db-9a44-0cf331726686",
   "metadata": {},
   "outputs": [
    {
     "name": "stdout",
     "output_type": "stream",
     "text": [
      "\tNumber of 1-tuple combinations: 80\n",
      "Total number of combinations: 80\n"
     ]
    }
   ],
   "source": [
    "combinations1 = protein.get_ptm_combinations([(\"CYS\", \"nitrosylation\"),(\"CYS\",\"sulfhydration\")], ntuple=1)"
   ]
  },
  {
   "cell_type": "markdown",
   "id": "46224a4f-95f7-4725-bd98-9547d2cef80a",
   "metadata": {},
   "source": [
    "- List all generated combinations"
   ]
  },
  {
   "cell_type": "code",
   "execution_count": 8,
   "id": "fefbc3d7-4e6a-4315-9a8b-07baf7a1d144",
   "metadata": {},
   "outputs": [
    {
     "name": "stdout",
     "output_type": "stream",
     "text": [
      "Residue         PTM\n",
      "D:CYS19      nitrosylation       \n",
      "D:CYS67      nitrosylation       \n",
      "D:CYS77      nitrosylation       \n",
      "D:CYS154     nitrosylation       \n",
      "D:CYS158     nitrosylation       \n",
      "A:CYS19      nitrosylation       \n",
      "A:CYS67      nitrosylation       \n",
      "A:CYS77      nitrosylation       \n",
      "A:CYS154     nitrosylation       \n",
      "A:CYS158     nitrosylation       \n",
      "E:CYS19      nitrosylation       \n",
      "E:CYS67      nitrosylation       \n",
      "E:CYS77      nitrosylation       \n",
      "E:CYS154     nitrosylation       \n",
      "E:CYS158     nitrosylation       \n",
      "F:CYS19      nitrosylation       \n",
      "F:CYS67      nitrosylation       \n",
      "F:CYS77      nitrosylation       \n",
      "F:CYS154     nitrosylation       \n",
      "F:CYS158     nitrosylation       \n",
      "I:CYS19      nitrosylation       \n",
      "I:CYS67      nitrosylation       \n",
      "I:CYS77      nitrosylation       \n",
      "I:CYS154     nitrosylation       \n",
      "I:CYS158     nitrosylation       \n",
      "K:CYS19      nitrosylation       \n",
      "K:CYS67      nitrosylation       \n",
      "K:CYS77      nitrosylation       \n",
      "K:CYS154     nitrosylation       \n",
      "K:CYS158     nitrosylation       \n",
      "N:CYS19      nitrosylation       \n",
      "N:CYS67      nitrosylation       \n",
      "N:CYS77      nitrosylation       \n",
      "N:CYS154     nitrosylation       \n",
      "N:CYS158     nitrosylation       \n",
      "O:CYS19      nitrosylation       \n",
      "O:CYS67      nitrosylation       \n",
      "O:CYS77      nitrosylation       \n",
      "O:CYS154     nitrosylation       \n",
      "O:CYS158     nitrosylation       \n",
      "D:CYS19      sulfhydration       \n",
      "D:CYS67      sulfhydration       \n",
      "D:CYS77      sulfhydration       \n",
      "D:CYS154     sulfhydration       \n",
      "D:CYS158     sulfhydration       \n",
      "A:CYS19      sulfhydration       \n",
      "A:CYS67      sulfhydration       \n",
      "A:CYS77      sulfhydration       \n",
      "A:CYS154     sulfhydration       \n",
      "A:CYS158     sulfhydration       \n",
      "E:CYS19      sulfhydration       \n",
      "E:CYS67      sulfhydration       \n",
      "E:CYS77      sulfhydration       \n",
      "E:CYS154     sulfhydration       \n",
      "E:CYS158     sulfhydration       \n",
      "F:CYS19      sulfhydration       \n",
      "F:CYS67      sulfhydration       \n",
      "F:CYS77      sulfhydration       \n",
      "F:CYS154     sulfhydration       \n",
      "F:CYS158     sulfhydration       \n",
      "I:CYS19      sulfhydration       \n",
      "I:CYS67      sulfhydration       \n",
      "I:CYS77      sulfhydration       \n",
      "I:CYS154     sulfhydration       \n",
      "I:CYS158     sulfhydration       \n",
      "K:CYS19      sulfhydration       \n",
      "K:CYS67      sulfhydration       \n",
      "K:CYS77      sulfhydration       \n",
      "K:CYS154     sulfhydration       \n",
      "K:CYS158     sulfhydration       \n",
      "N:CYS19      sulfhydration       \n",
      "N:CYS67      sulfhydration       \n",
      "N:CYS77      sulfhydration       \n",
      "N:CYS154     sulfhydration       \n",
      "N:CYS158     sulfhydration       \n",
      "O:CYS19      sulfhydration       \n",
      "O:CYS67      sulfhydration       \n",
      "O:CYS77      sulfhydration       \n",
      "O:CYS154     sulfhydration       \n",
      "O:CYS158     sulfhydration       \n"
     ]
    }
   ],
   "source": [
    "print(\"Residue         PTM\")\n",
    "for ptm in combinations1[0]:\n",
    "    print(f\"{ptm[0][0]:10s}   {ptm[0][1]:20s}\")"
   ]
  },
  {
   "cell_type": "markdown",
   "id": "8fea888e-34ea-4a74-bc3e-2ebe3725d960",
   "metadata": {},
   "source": [
    "- Generate all possible single and double combinations excluding modification of all CYS19 and CYS77 of GAP2"
   ]
  },
  {
   "cell_type": "code",
   "execution_count": 9,
   "id": "53dad55b-d93a-464a-9555-4a865bf5a076",
   "metadata": {},
   "outputs": [
    {
     "name": "stdout",
     "output_type": "stream",
     "text": [
      "\tNumber of 1-tuple combinations: 48\n",
      "\tNumber of 2-tuple combinations: 1104\n",
      "Total number of combinations: 1152\n"
     ]
    }
   ],
   "source": [
    "exclude = [ f\"{chain}:{res}\" for chain in [\"A\", \"D\", \"E\", \"F\", \"I\", \"K\", \"N\", \"O\"] for res in [\"CYS19\", \"CYS77\"] ]\n",
    "combinations2 = protein.get_ptm_combinations([(\"CYS\", \"nitrosylation\"),(\"CYS\",\"sulfhydration\")], exclude=exclude, ntuple=2)"
   ]
  },
  {
   "cell_type": "markdown",
   "id": "b2ca552a-9917-4fd3-b3dd-b740cf581e35",
   "metadata": {},
   "source": [
    "- Find all cysteine residues involved in disulfide bonds (identifed as CYX)"
   ]
  },
  {
   "cell_type": "code",
   "execution_count": 10,
   "id": "2dd4bf8b-915b-4fbe-9b49-06d4ce365472",
   "metadata": {},
   "outputs": [
    {
     "name": "stdout",
     "output_type": "stream",
     "text": [
      "P:CYX19\n",
      "P:CYX29\n",
      "P:CYX61\n",
      "P:CYX70\n",
      "J:CYX13\n",
      "J:CYX35\n",
      "J:CYX224\n",
      "J:CYX230\n",
      "B:CYX13\n",
      "B:CYX35\n",
      "B:CYX224\n",
      "B:CYX230\n",
      "G:CYX13\n",
      "G:CYX35\n",
      "G:CYX224\n",
      "G:CYX230\n",
      "L:CYX13\n",
      "L:CYX35\n",
      "L:CYX224\n",
      "L:CYX230\n",
      "C:CYX19\n",
      "C:CYX29\n",
      "C:CYX61\n",
      "C:CYX70\n",
      "H:CYX19\n",
      "H:CYX29\n",
      "H:CYX61\n",
      "H:CYX70\n",
      "M:CYX19\n",
      "M:CYX29\n",
      "M:CYX61\n",
      "M:CYX70\n"
     ]
    }
   ],
   "source": [
    "protein.findresidue(\"CYX\")"
   ]
  },
  {
   "cell_type": "markdown",
   "id": "6aa90a02-1b21-4175-9ddc-8f1b65aa51e0",
   "metadata": {},
   "source": [
    "- Generate a combination list that reduces both disulfide bonds of CP12 chain M"
   ]
  },
  {
   "cell_type": "code",
   "execution_count": 11,
   "id": "47cc9d2d-158e-42d7-8149-9ed9a15b30ce",
   "metadata": {},
   "outputs": [
    {
     "name": "stdout",
     "output_type": "stream",
     "text": [
      "\tNumber of 1-tuple combinations: 4\n",
      "\tNumber of 2-tuple combinations: 6\n",
      "\tNumber of 3-tuple combinations: 4\n",
      "\tNumber of 4-tuple combinations: 1\n",
      "Total number of combinations: 15\n"
     ]
    }
   ],
   "source": [
    "combinations3 = protein.get_ptm_combinations([(\"M:CYX\", \"reduction\")], ntuple=4)"
   ]
  },
  {
   "cell_type": "code",
   "execution_count": 12,
   "id": "c7c94cec-12a3-4cd6-bfcb-df10ea5df0ae",
   "metadata": {},
   "outputs": [
    {
     "name": "stdout",
     "output_type": "stream",
     "text": [
      "1-tuple\n",
      "     Residue         PTM\n",
      "  1  M:CYX19      reduction           \n",
      "  2  M:CYX29      reduction           \n",
      "  3  M:CYX61      reduction           \n",
      "  4  M:CYX70      reduction           \n",
      "\n",
      "2-tuple\n",
      "     Residue1       PTM1     Residue2       PTM2\n",
      "  1   M:CYX19    reduction    M:CYX29    reduction    \n",
      "  2   M:CYX19    reduction    M:CYX61    reduction    \n",
      "  3   M:CYX19    reduction    M:CYX70    reduction    \n",
      "  4   M:CYX29    reduction    M:CYX61    reduction    \n",
      "  5   M:CYX29    reduction    M:CYX70    reduction    \n",
      "  6   M:CYX61    reduction    M:CYX70    reduction    \n",
      "\n",
      "3-tuple\n",
      "     Residue1       PTM1     Residue2       PTM2     Residue3      PTM3\n",
      "  1   M:CYX19    reduction    M:CYX29    reduction    M:CYX61    reduction    \n",
      "  2   M:CYX19    reduction    M:CYX29    reduction    M:CYX70    reduction    \n",
      "  3   M:CYX19    reduction    M:CYX61    reduction    M:CYX70    reduction    \n",
      "  4   M:CYX29    reduction    M:CYX61    reduction    M:CYX70    reduction    \n",
      "\n",
      "4-tuple\n",
      "     Residue1       PTM1     Residue2       PTM2     Residue3      PTM3      Residue4      PTM4\n",
      "  1   M:CYX19    reduction    M:CYX29    reduction    M:CYX61    reduction    M:CYX70    reduction    \n"
     ]
    }
   ],
   "source": [
    "print(\"1-tuple\")\n",
    "print(\"     Residue         PTM\")\n",
    "for i,ptm in enumerate(combinations3[0]):\n",
    "    for residue in ptm:\n",
    "        print(f\"{i+1:3d}  {residue[0]:10s}   {residue[1]:20s}\")\n",
    "\n",
    "print()\n",
    "print(\"2-tuple\")\n",
    "print(\"     Residue1       PTM1     Residue2       PTM2\")\n",
    "for i,ptm in enumerate(combinations3[1]):\n",
    "    print(f\"{i+1:3d}   \", end=\"\")\n",
    "    for residue in ptm:\n",
    "        print(f\"{residue[0]}    {residue[1]}    \", end=\"\")\n",
    "    print()\n",
    "\n",
    "print()\n",
    "print(\"3-tuple\")\n",
    "print(\"     Residue1       PTM1     Residue2       PTM2     Residue3      PTM3\")\n",
    "for i,ptm in enumerate(combinations3[2]):\n",
    "    print(f\"{i+1:3d}   \", end=\"\")\n",
    "    for residue in ptm:\n",
    "        print(f\"{residue[0]}    {residue[1]}    \", end=\"\")\n",
    "    print()\n",
    "\n",
    "print()\n",
    "print(\"4-tuple\")\n",
    "print(\"     Residue1       PTM1     Residue2       PTM2     Residue3      PTM3      Residue4      PTM4\")\n",
    "for i,ptm in enumerate(combinations3[3]):\n",
    "    print(f\"{i+1:3d}   \", end=\"\")\n",
    "    for residue in ptm:\n",
    "        print(f\"{residue[0]}    {residue[1]}    \", end=\"\")\n",
    "    print()\n"
   ]
  },
  {
   "cell_type": "markdown",
   "id": "115de7bc-75cb-497b-bc24-4d79a5ff9e3f",
   "metadata": {},
   "source": [
    "Note that some double (2-tuple) combinations and the quadruple (4-tuple) combination are the only ones that make sense for this case as CYX19 is bonded to CYX29 and CYX61 is bonded to CYX70."
   ]
  },
  {
   "cell_type": "markdown",
   "id": "6aa2ba25-842b-46e3-ba38-673ec6f46012",
   "metadata": {},
   "source": [
    "- Generate the run files for the quadruple combination\n",
    "\n",
    "The following command will generate a folder with a unique identifier (UID) with all the necessary files to submit a full set of GROMACS MD simulations including energy minimization, equilibration, and a 100 ns production run. Note that there is a modified **specbond.dat** file that will prevent GROMACS from forming a disulfide bond between spatially close **CYS** residues, but it will still form disulfide bonds between two nearby **CYX** residues."
   ]
  },
  {
   "cell_type": "code",
   "execution_count": 13,
   "id": "b8022eb0-d990-4bef-8912-ab26d263416d",
   "metadata": {},
   "outputs": [
    {
     "name": "stdout",
     "output_type": "stream",
     "text": [
      "\t Reading local PDB file\n",
      "reduction CYS\n",
      "\n",
      "\t Found rotamer with no clashes!\n",
      "reduction CYS\n",
      "\n",
      "\t Current rotamer has 4 possible clashes\n",
      "\t Current rotamer has 4 possible clashes\n",
      "\t Current rotamer has 3 possible clashes\n",
      "\t Current rotamer has 3 possible clashes\n",
      "\t Current rotamer has 2 possible clashes\n",
      "\t Current rotamer has 2 possible clashes\n",
      "\t Current rotamer has 2 possible clashes\n",
      "\t Current rotamer has 2 possible clashes\n",
      "\t Current rotamer has 2 possible clashes\n",
      "\t Current rotamer has 2 possible clashes\n",
      "\t Current rotamer has 2 possible clashes\n",
      "\t Current rotamer has 3 possible clashes\n",
      "\t Current rotamer has 2 possible clashes\n",
      "\t Current rotamer has 2 possible clashes\n",
      "\t Current rotamer has 1 possible clashes\n",
      "\t Current rotamer has 1 possible clashes\n",
      "\n",
      "\t Found rotamer with no clashes!\n",
      "reduction CYS\n",
      "\n",
      "\t Found rotamer with no clashes!\n",
      "reduction CYS\n",
      "\n",
      "\t Current rotamer has 2 possible clashes\n",
      "\t Current rotamer has 1 possible clashes\n",
      "\t Current rotamer has 2 possible clashes\n",
      "\t Current rotamer has 2 possible clashes\n",
      "\t Current rotamer has 1 possible clashes\n",
      "\t Current rotamer has 1 possible clashes\n",
      "\t Current rotamer has 1 possible clashes\n",
      "\t Current rotamer has 1 possible clashes\n",
      "\t Current rotamer has 1 possible clashes\n",
      "\t Current rotamer has 1 possible clashes\n",
      "\t Current rotamer has 2 possible clashes\n",
      "\t Current rotamer has 2 possible clashes\n",
      "\t Current rotamer has 1 possible clashes\n",
      "\t Current rotamer has 1 possible clashes\n",
      "\n",
      "\t Found rotamer with no clashes!\n"
     ]
    }
   ],
   "source": [
    "uid = protein.gen_ptm_files([combinations3[3]], lenmd=1, lennvt=100, lennpt=100 machine=\"frontier\", account='bip258', **ptmpsi.slurm.frontier.partitions[\"batch\"].options[\"gromacs\"])"
   ]
  },
  {
   "cell_type": "code",
   "execution_count": null,
   "id": "b55dbeea-a988-4f84-b39e-b1d55a514635",
   "metadata": {},
   "outputs": [],
   "source": []
  }
 ],
 "metadata": {
  "kernelspec": {
   "display_name": "Python 3 (ipykernel)",
   "language": "python",
   "name": "python3"
  },
  "language_info": {
   "codemirror_mode": {
    "name": "ipython",
    "version": 3
   },
   "file_extension": ".py",
   "mimetype": "text/x-python",
   "name": "python",
   "nbconvert_exporter": "python",
   "pygments_lexer": "ipython3",
   "version": "3.11.9"
  }
 },
 "nbformat": 4,
 "nbformat_minor": 5
}
