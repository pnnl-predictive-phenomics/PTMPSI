{
 "cells": [
  {
   "cell_type": "code",
   "execution_count": null,
   "id": "b75a90de",
   "metadata": {},
   "outputs": [],
   "source": [
    "#This notebook is for preprocessing the PDBs that have the last column that needs to be discarded"
   ]
  },
  {
   "cell_type": "code",
   "execution_count": 1,
   "id": "e8489a7b",
   "metadata": {},
   "outputs": [],
   "source": [
    "input_file = \"./rep1/139-147_rep1.pdb\"\n",
    "output_file = \"./rep1/139-147_rep1_modified.pdb\"\n",
    "\n",
    "with open(input_file, \"r\") as file_in:\n",
    "    lines = file_in.readlines()\n",
    "\n",
    "with open(output_file, \"w\") as file_out:\n",
    "    file_out.writelines(lines[:-1])"
   ]
  },
  {
   "cell_type": "code",
   "execution_count": 2,
   "id": "9b53f5f9",
   "metadata": {},
   "outputs": [],
   "source": [
    "input_file = \"./rep2/139-147_rep2.pdb\"\n",
    "output_file = \"./rep2/139-147_rep2_modified.pdb\"\n",
    "\n",
    "with open(input_file, \"r\") as file_in:\n",
    "    lines = file_in.readlines()\n",
    "\n",
    "with open(output_file, \"w\") as file_out:\n",
    "    file_out.writelines(lines[:-1])"
   ]
  },
  {
   "cell_type": "code",
   "execution_count": 3,
   "id": "57746661",
   "metadata": {},
   "outputs": [],
   "source": [
    "input_file = \"./rep3/139-147_rep3.pdb\"\n",
    "output_file = \"./rep3/139-147_rep3_modified.pdb\"\n",
    "\n",
    "with open(input_file, \"r\") as file_in:\n",
    "    lines = file_in.readlines()\n",
    "\n",
    "with open(output_file, \"w\") as file_out:\n",
    "    file_out.writelines(lines[:-1])"
   ]
  },
  {
   "cell_type": "code",
   "execution_count": 4,
   "id": "f591365b",
   "metadata": {},
   "outputs": [],
   "source": [
    "input_file = \"./rep4/139-147_rep4.pdb\"\n",
    "output_file = \"./rep4/139-147_rep4_modified.pdb\"\n",
    "\n",
    "with open(input_file, \"r\") as file_in:\n",
    "    lines = file_in.readlines()\n",
    "\n",
    "with open(output_file, \"w\") as file_out:\n",
    "    file_out.writelines(lines[:-1])"
   ]
  },
  {
   "cell_type": "code",
   "execution_count": 5,
   "id": "56ca337e",
   "metadata": {},
   "outputs": [],
   "source": [
    "input_file = \"./rep5/139-147_rep5.pdb\"\n",
    "output_file = \"./rep5/139-147_rep5_modified.pdb\"\n",
    "\n",
    "with open(input_file, \"r\") as file_in:\n",
    "    lines = file_in.readlines()\n",
    "\n",
    "with open(output_file, \"w\") as file_out:\n",
    "    file_out.writelines(lines[:-1])\n"
   ]
  }
 ],
 "metadata": {
  "kernelspec": {
   "display_name": "Python 3 (ipykernel)",
   "language": "python",
   "name": "python3"
  },
  "language_info": {
   "codemirror_mode": {
    "name": "ipython",
    "version": 3
   },
   "file_extension": ".py",
   "mimetype": "text/x-python",
   "name": "python",
   "nbconvert_exporter": "python",
   "pygments_lexer": "ipython3",
   "version": "3.9.12"
  }
 },
 "nbformat": 4,
 "nbformat_minor": 5
}
